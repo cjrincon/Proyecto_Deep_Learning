{
  "nbformat": 4,
  "nbformat_minor": 0,
  "metadata": {
    "colab": {
      "name": "03. Predicción del RUL.ipynb",
      "provenance": [],
      "mount_file_id": "1j1ZkoufSI5deDR9J6TkpO7G8neHaSQe6",
      "authorship_tag": "ABX9TyMpl2K4fLebscDak6nnojEp",
      "include_colab_link": true
    },
    "kernelspec": {
      "name": "python3",
      "display_name": "Python 3"
    },
    "language_info": {
      "name": "python"
    }
  },
  "cells": [
    {
      "cell_type": "markdown",
      "metadata": {
        "id": "view-in-github",
        "colab_type": "text"
      },
      "source": [
        "<a href=\"https://colab.research.google.com/github/cjrincon/Proyecto_Deep_Learning/blob/main/03_Predicci%C3%B3n_del_RUL.ipynb\" target=\"_parent\"><img src=\"https://colab.research.google.com/assets/colab-badge.svg\" alt=\"Open In Colab\"/></a>"
      ]
    },
    {
      "cell_type": "markdown",
      "source": [
        "# **Predecir la capacidad de la batería**\n",
        "\n",
        "Se plantean diferentes modelos para hacer la predicción del RUL teniendo en cuenta datos anteriores de la capacidad.\n"
      ],
      "metadata": {
        "id": "aT7Y2uzddXGr"
      }
    },
    {
      "cell_type": "markdown",
      "source": [
        "## Cargar las librerías necesarias para el desarrollo del proyecto"
      ],
      "metadata": {
        "id": "0iQPlVSHjuDk"
      }
    },
    {
      "cell_type": "code",
      "source": [
        "import numpy as np\n",
        "import pandas as pd\n",
        "import datetime\n",
        "import matplotlib.pyplot as plt\n",
        "import seaborn as sns\n",
        "import tensorflow as tf\n",
        "from tensorflow.keras.models import Sequential\n",
        "from tensorflow.keras.layers import Dense, LSTM, Dropout, GRU, SimpleRNN, Flatten\n",
        "from tensorflow.keras.optimizers import Adam\n",
        "from sklearn.model_selection import train_test_split\n",
        "from sklearn.preprocessing import MinMaxScaler\n",
        "import math, statistics\n",
        "\n",
        "from sklearn.metrics import mean_squared_error\n",
        "from sklearn.metrics import mean_squared_error, mean_absolute_error\n"
      ],
      "metadata": {
        "id": "_56kryxKjk3m"
      },
      "execution_count": null,
      "outputs": []
    },
    {
      "cell_type": "markdown",
      "source": [
        "## Lectura de los datos, identificación de cada batería y cálculo del SOH"
      ],
      "metadata": {
        "id": "xNuQ0njfjlj9"
      }
    },
    {
      "cell_type": "code",
      "source": [
        "# Lectura de datos desde github\n",
        "# Datos de la batería #5\n",
        "url_5 = 'https://raw.githubusercontent.com/cjrincon/Proyecto_Deep_Learning/main/data/raw_data_05.csv'\n",
        "bat_5 = pd.read_csv(url_5, delimiter=',')\n",
        "# Datos de la batería #6\n",
        "url_6 = 'https://raw.githubusercontent.com/cjrincon/Proyecto_Deep_Learning/main/data/raw_data_06.csv'\n",
        "bat_6 = pd.read_csv(url_6, delimiter=',')\n",
        "# Datos de la batería #7\n",
        "url_7 = 'https://raw.githubusercontent.com/cjrincon/Proyecto_Deep_Learning/main/data/raw_data_07.csv'\n",
        "bat_7 = pd.read_csv(url_7, delimiter=',')\n",
        "# Datos de la batería #18\n",
        "url_18 = 'https://raw.githubusercontent.com/cjrincon/Proyecto_Deep_Learning/main/data/raw_data_18.csv'\n",
        "bat_18 = pd.read_csv(url_18, delimiter=',')"
      ],
      "metadata": {
        "id": "PLapobvhGfwj"
      },
      "execution_count": null,
      "outputs": []
    },
    {
      "cell_type": "code",
      "source": [
        "# Se agrega una columna para identificar cada tipo de batería\n",
        "bat_5 = bat_5.assign(battery=5)\n",
        "bat_6 = bat_6.assign(battery=6)\n",
        "bat_7 = bat_7.assign(battery=7)\n",
        "bat_18 = bat_18.assign(battery=18)"
      ],
      "metadata": {
        "id": "KXadxEvAH-S6"
      },
      "execution_count": null,
      "outputs": []
    },
    {
      "cell_type": "code",
      "source": [
        "# Se crea una base de datos consolidando los datos de las 4 baterías\n",
        "data = pd.concat([bat_5, bat_6, bat_7, bat_18])\n",
        "data.head()"
      ],
      "metadata": {
        "colab": {
          "base_uri": "https://localhost:8080/",
          "height": 206
        },
        "id": "7PzNrjQ0hf7X",
        "outputId": "61e2a427-857b-45a9-dae5-0aaf4066ba8d"
      },
      "execution_count": null,
      "outputs": [
        {
          "output_type": "execute_result",
          "data": {
            "text/plain": [
              "   cycle  ambient_temperature             datetime  capacity  \\\n",
              "0      1                   24  2008-04-02 15:25:41  1.856487   \n",
              "1      1                   24  2008-04-02 15:25:41  1.856487   \n",
              "2      1                   24  2008-04-02 15:25:41  1.856487   \n",
              "3      1                   24  2008-04-02 15:25:41  1.856487   \n",
              "4      1                   24  2008-04-02 15:25:41  1.856487   \n",
              "\n",
              "   voltage_measured  current_measured  temperature_measured  current_load  \\\n",
              "0          4.191492         -0.004902             24.330034       -0.0006   \n",
              "1          4.190749         -0.001478             24.325993       -0.0006   \n",
              "2          3.974871         -2.012528             24.389085       -1.9982   \n",
              "3          3.951717         -2.013979             24.544752       -1.9982   \n",
              "4          3.934352         -2.011144             24.731385       -1.9982   \n",
              "\n",
              "   voltage_load    time  battery  \n",
              "0         0.000   0.000        5  \n",
              "1         4.206  16.781        5  \n",
              "2         3.062  35.703        5  \n",
              "3         3.030  53.781        5  \n",
              "4         3.011  71.922        5  "
            ],
            "text/html": [
              "\n",
              "  <div id=\"df-4d04dfe0-76c6-466c-a0f6-5db4e7c4427c\">\n",
              "    <div class=\"colab-df-container\">\n",
              "      <div>\n",
              "<style scoped>\n",
              "    .dataframe tbody tr th:only-of-type {\n",
              "        vertical-align: middle;\n",
              "    }\n",
              "\n",
              "    .dataframe tbody tr th {\n",
              "        vertical-align: top;\n",
              "    }\n",
              "\n",
              "    .dataframe thead th {\n",
              "        text-align: right;\n",
              "    }\n",
              "</style>\n",
              "<table border=\"1\" class=\"dataframe\">\n",
              "  <thead>\n",
              "    <tr style=\"text-align: right;\">\n",
              "      <th></th>\n",
              "      <th>cycle</th>\n",
              "      <th>ambient_temperature</th>\n",
              "      <th>datetime</th>\n",
              "      <th>capacity</th>\n",
              "      <th>voltage_measured</th>\n",
              "      <th>current_measured</th>\n",
              "      <th>temperature_measured</th>\n",
              "      <th>current_load</th>\n",
              "      <th>voltage_load</th>\n",
              "      <th>time</th>\n",
              "      <th>battery</th>\n",
              "    </tr>\n",
              "  </thead>\n",
              "  <tbody>\n",
              "    <tr>\n",
              "      <th>0</th>\n",
              "      <td>1</td>\n",
              "      <td>24</td>\n",
              "      <td>2008-04-02 15:25:41</td>\n",
              "      <td>1.856487</td>\n",
              "      <td>4.191492</td>\n",
              "      <td>-0.004902</td>\n",
              "      <td>24.330034</td>\n",
              "      <td>-0.0006</td>\n",
              "      <td>0.000</td>\n",
              "      <td>0.000</td>\n",
              "      <td>5</td>\n",
              "    </tr>\n",
              "    <tr>\n",
              "      <th>1</th>\n",
              "      <td>1</td>\n",
              "      <td>24</td>\n",
              "      <td>2008-04-02 15:25:41</td>\n",
              "      <td>1.856487</td>\n",
              "      <td>4.190749</td>\n",
              "      <td>-0.001478</td>\n",
              "      <td>24.325993</td>\n",
              "      <td>-0.0006</td>\n",
              "      <td>4.206</td>\n",
              "      <td>16.781</td>\n",
              "      <td>5</td>\n",
              "    </tr>\n",
              "    <tr>\n",
              "      <th>2</th>\n",
              "      <td>1</td>\n",
              "      <td>24</td>\n",
              "      <td>2008-04-02 15:25:41</td>\n",
              "      <td>1.856487</td>\n",
              "      <td>3.974871</td>\n",
              "      <td>-2.012528</td>\n",
              "      <td>24.389085</td>\n",
              "      <td>-1.9982</td>\n",
              "      <td>3.062</td>\n",
              "      <td>35.703</td>\n",
              "      <td>5</td>\n",
              "    </tr>\n",
              "    <tr>\n",
              "      <th>3</th>\n",
              "      <td>1</td>\n",
              "      <td>24</td>\n",
              "      <td>2008-04-02 15:25:41</td>\n",
              "      <td>1.856487</td>\n",
              "      <td>3.951717</td>\n",
              "      <td>-2.013979</td>\n",
              "      <td>24.544752</td>\n",
              "      <td>-1.9982</td>\n",
              "      <td>3.030</td>\n",
              "      <td>53.781</td>\n",
              "      <td>5</td>\n",
              "    </tr>\n",
              "    <tr>\n",
              "      <th>4</th>\n",
              "      <td>1</td>\n",
              "      <td>24</td>\n",
              "      <td>2008-04-02 15:25:41</td>\n",
              "      <td>1.856487</td>\n",
              "      <td>3.934352</td>\n",
              "      <td>-2.011144</td>\n",
              "      <td>24.731385</td>\n",
              "      <td>-1.9982</td>\n",
              "      <td>3.011</td>\n",
              "      <td>71.922</td>\n",
              "      <td>5</td>\n",
              "    </tr>\n",
              "  </tbody>\n",
              "</table>\n",
              "</div>\n",
              "      <button class=\"colab-df-convert\" onclick=\"convertToInteractive('df-4d04dfe0-76c6-466c-a0f6-5db4e7c4427c')\"\n",
              "              title=\"Convert this dataframe to an interactive table.\"\n",
              "              style=\"display:none;\">\n",
              "        \n",
              "  <svg xmlns=\"http://www.w3.org/2000/svg\" height=\"24px\"viewBox=\"0 0 24 24\"\n",
              "       width=\"24px\">\n",
              "    <path d=\"M0 0h24v24H0V0z\" fill=\"none\"/>\n",
              "    <path d=\"M18.56 5.44l.94 2.06.94-2.06 2.06-.94-2.06-.94-.94-2.06-.94 2.06-2.06.94zm-11 1L8.5 8.5l.94-2.06 2.06-.94-2.06-.94L8.5 2.5l-.94 2.06-2.06.94zm10 10l.94 2.06.94-2.06 2.06-.94-2.06-.94-.94-2.06-.94 2.06-2.06.94z\"/><path d=\"M17.41 7.96l-1.37-1.37c-.4-.4-.92-.59-1.43-.59-.52 0-1.04.2-1.43.59L10.3 9.45l-7.72 7.72c-.78.78-.78 2.05 0 2.83L4 21.41c.39.39.9.59 1.41.59.51 0 1.02-.2 1.41-.59l7.78-7.78 2.81-2.81c.8-.78.8-2.07 0-2.86zM5.41 20L4 18.59l7.72-7.72 1.47 1.35L5.41 20z\"/>\n",
              "  </svg>\n",
              "      </button>\n",
              "      \n",
              "  <style>\n",
              "    .colab-df-container {\n",
              "      display:flex;\n",
              "      flex-wrap:wrap;\n",
              "      gap: 12px;\n",
              "    }\n",
              "\n",
              "    .colab-df-convert {\n",
              "      background-color: #E8F0FE;\n",
              "      border: none;\n",
              "      border-radius: 50%;\n",
              "      cursor: pointer;\n",
              "      display: none;\n",
              "      fill: #1967D2;\n",
              "      height: 32px;\n",
              "      padding: 0 0 0 0;\n",
              "      width: 32px;\n",
              "    }\n",
              "\n",
              "    .colab-df-convert:hover {\n",
              "      background-color: #E2EBFA;\n",
              "      box-shadow: 0px 1px 2px rgba(60, 64, 67, 0.3), 0px 1px 3px 1px rgba(60, 64, 67, 0.15);\n",
              "      fill: #174EA6;\n",
              "    }\n",
              "\n",
              "    [theme=dark] .colab-df-convert {\n",
              "      background-color: #3B4455;\n",
              "      fill: #D2E3FC;\n",
              "    }\n",
              "\n",
              "    [theme=dark] .colab-df-convert:hover {\n",
              "      background-color: #434B5C;\n",
              "      box-shadow: 0px 1px 3px 1px rgba(0, 0, 0, 0.15);\n",
              "      filter: drop-shadow(0px 1px 2px rgba(0, 0, 0, 0.3));\n",
              "      fill: #FFFFFF;\n",
              "    }\n",
              "  </style>\n",
              "\n",
              "      <script>\n",
              "        const buttonEl =\n",
              "          document.querySelector('#df-4d04dfe0-76c6-466c-a0f6-5db4e7c4427c button.colab-df-convert');\n",
              "        buttonEl.style.display =\n",
              "          google.colab.kernel.accessAllowed ? 'block' : 'none';\n",
              "\n",
              "        async function convertToInteractive(key) {\n",
              "          const element = document.querySelector('#df-4d04dfe0-76c6-466c-a0f6-5db4e7c4427c');\n",
              "          const dataTable =\n",
              "            await google.colab.kernel.invokeFunction('convertToInteractive',\n",
              "                                                     [key], {});\n",
              "          if (!dataTable) return;\n",
              "\n",
              "          const docLinkHtml = 'Like what you see? Visit the ' +\n",
              "            '<a target=\"_blank\" href=https://colab.research.google.com/notebooks/data_table.ipynb>data table notebook</a>'\n",
              "            + ' to learn more about interactive tables.';\n",
              "          element.innerHTML = '';\n",
              "          dataTable['output_type'] = 'display_data';\n",
              "          await google.colab.output.renderOutput(dataTable, element);\n",
              "          const docLink = document.createElement('div');\n",
              "          docLink.innerHTML = docLinkHtml;\n",
              "          element.appendChild(docLink);\n",
              "        }\n",
              "      </script>\n",
              "    </div>\n",
              "  </div>\n",
              "  "
            ]
          },
          "metadata": {},
          "execution_count": 57
        }
      ]
    },
    {
      "cell_type": "code",
      "source": [
        "# Se calcula el SOH según la fórmula anterior\n",
        "bat_5['SOH'] = bat_5['capacity']/bat_5['capacity'][0]\n",
        "bat_6['SOH'] = bat_6['capacity']/bat_5['capacity'][0]\n",
        "bat_7['SOH'] = bat_7['capacity']/bat_5['capacity'][0]\n",
        "bat_18['SOH'] = bat_18['capacity']/bat_5['capacity'][0]\n",
        "data = pd.concat([bat_5, bat_6, bat_7, bat_18])"
      ],
      "metadata": {
        "id": "gd4859tPLmoA"
      },
      "execution_count": null,
      "outputs": []
    },
    {
      "cell_type": "markdown",
      "source": [
        "## Definición del conjunto de datos para cada batería"
      ],
      "metadata": {
        "id": "kbtQH1QBE3OZ"
      }
    },
    {
      "cell_type": "code",
      "source": [
        "data_5_RUL = bat_5.groupby(by=['cycle'])['capacity'].mean()\n",
        "data_5_RUL = data_5_RUL.reset_index()\n",
        "data_5_RUL['capacity'] = data_5_RUL['capacity']\n",
        "data_5_RUL = data_5_RUL.set_index('cycle')\n",
        "data_5_RUL.shape"
      ],
      "metadata": {
        "colab": {
          "base_uri": "https://localhost:8080/"
        },
        "id": "FR5ZQL5JF1xK",
        "outputId": "53565853-9452-4c4e-9171-a187ff97b493"
      },
      "execution_count": null,
      "outputs": [
        {
          "output_type": "execute_result",
          "data": {
            "text/plain": [
              "(168, 1)"
            ]
          },
          "metadata": {},
          "execution_count": 59
        }
      ]
    },
    {
      "cell_type": "code",
      "source": [
        "data_6_RUL = bat_6.groupby(by=['cycle'])['capacity'].mean()\n",
        "data_6_RUL = data_6_RUL.reset_index()\n",
        "data_6_RUL['capacity'] = data_6_RUL['capacity']\n",
        "data_6_RUL = data_6_RUL.set_index('cycle')\n",
        "data_6_RUL.shape"
      ],
      "metadata": {
        "colab": {
          "base_uri": "https://localhost:8080/"
        },
        "id": "EL5LoRLeFp1N",
        "outputId": "615f4597-6262-44ff-d824-2de9e13e033e"
      },
      "execution_count": null,
      "outputs": [
        {
          "output_type": "execute_result",
          "data": {
            "text/plain": [
              "(168, 1)"
            ]
          },
          "metadata": {},
          "execution_count": 60
        }
      ]
    },
    {
      "cell_type": "code",
      "source": [
        "data_7_RUL = bat_7.groupby(by=['cycle'])['capacity'].mean()\n",
        "data_7_RUL = data_7_RUL.reset_index()\n",
        "data_7_RUL['capacity'] = data_7_RUL['capacity']\n",
        "data_7_RUL = data_7_RUL.set_index('cycle')\n",
        "data_7_RUL.shape"
      ],
      "metadata": {
        "colab": {
          "base_uri": "https://localhost:8080/"
        },
        "id": "OeQudYZ1Fpyo",
        "outputId": "68e10f37-fa7b-4108-bde5-4f56013b4a7b"
      },
      "execution_count": null,
      "outputs": [
        {
          "output_type": "execute_result",
          "data": {
            "text/plain": [
              "(168, 1)"
            ]
          },
          "metadata": {},
          "execution_count": 61
        }
      ]
    },
    {
      "cell_type": "code",
      "source": [
        "data_18_RUL = bat_18.groupby(by=['cycle'])['capacity'].mean()\n",
        "data_18_RUL = data_18_RUL.reset_index()\n",
        "data_18_RUL['capacity'] = data_18_RUL['capacity']\n",
        "data_18_RUL = data_18_RUL.set_index('cycle')\n",
        "data_18_RUL.shape"
      ],
      "metadata": {
        "colab": {
          "base_uri": "https://localhost:8080/"
        },
        "id": "PFCkhm-CFpwA",
        "outputId": "b981bda9-7860-4bb2-99f7-909d3d04a93a"
      },
      "execution_count": null,
      "outputs": [
        {
          "output_type": "execute_result",
          "data": {
            "text/plain": [
              "(132, 1)"
            ]
          },
          "metadata": {},
          "execution_count": 62
        }
      ]
    },
    {
      "cell_type": "markdown",
      "source": [
        "## Definición de funciones necesarias"
      ],
      "metadata": {
        "id": "z965gYH35lKp"
      }
    },
    {
      "cell_type": "code",
      "source": [
        "def create_datasetMultipleTimesBackAhead(dataset, n_steps_out=1, n_steps_in = 1, overlap = 1):\n",
        "\tdataX, dataY = [], []\n",
        "\ttem = n_steps_in + n_steps_out - overlap\n",
        "\tfor i in range(int((len(dataset) - tem)/overlap)):\n",
        "\t\tstartx = i*overlap\n",
        "\t\tendx = startx + n_steps_in\n",
        "\t\tstarty = endx\n",
        "\t\tendy = endx + n_steps_out\n",
        "\t\ta = dataset[startx:endx, 0]\n",
        "\t\tdataX.append(a)\n",
        "\t\tdataY.append(dataset[starty:endy, 0])\n",
        "\treturn np.array(dataX), np.array(dataY)"
      ],
      "metadata": {
        "id": "rjKYcf2sJfLl"
      },
      "execution_count": null,
      "outputs": []
    },
    {
      "cell_type": "code",
      "source": [
        "def split_sequence(sequence, n_steps):\n",
        "\tX, y = list(), list()\n",
        "\tfor i in range(len(sequence)):\n",
        "\t\tend_ix = i + n_steps\n",
        "\t\tif end_ix > len(sequence)-1:\n",
        "\t\t\tbreak\n",
        "\t\tseq_x, seq_y = sequence[i:end_ix], sequence[end_ix]\n",
        "\t\tX.append(seq_x)\n",
        "\t\ty.append(seq_y)\n",
        "\treturn np.array(X), np.array(y)"
      ],
      "metadata": {
        "id": "-DSd0-6NJUHX"
      },
      "execution_count": null,
      "outputs": []
    },
    {
      "cell_type": "code",
      "source": [
        "def EstimaRMSE_RNN_MultiStep(model,X_train,X_test,y_train,y_test,scaler,look_back,n_steps,flag):\n",
        "\t# make predictions\n",
        "\tif flag == 1:#multiple times set as features\n",
        "\t\ttrainPredict = model.predict(X_train.reshape(X_train.shape[0],1,look_back))\n",
        "\t\ttestPredict = []\n",
        "\t\tfor i in range(X_test.shape[0]):\n",
        "\t\t\ttemPredict = np.zeros([n_steps])\n",
        "\t\t\tfor j in range(n_steps):\n",
        "\t\t\t\tif j==0:\n",
        "\t\t\t\t\txtest = X_test[i,:]\n",
        "\t\t\t\telse:\n",
        "\t\t\t\t\txtest = np.concatenate((X_test[i,j:],temPredict[:j]))\n",
        "\t\t\t\ttemPredict[j] = model.predict(xtest.reshape(1,1,look_back))\n",
        "\t\t\ttestPredict.append(temPredict)\n",
        "\t\ttestPredict = np.array(testPredict)\n",
        "\t\ttestPredict = testPredict.flatten()\n",
        "\telse: #multiple times set as times\n",
        "\t\ttrainPredict = model.predict(X_train.reshape(X_train.shape[0],look_back,1))\n",
        "\t\ttestPredict = []\n",
        "\t\tfor i in range(X_test.shape[0]):\n",
        "\t\t\ttemPredict = np.zeros([n_steps])\n",
        "\t\t\tfor j in range(n_steps):\n",
        "\t\t\t\tif j==0:\n",
        "\t\t\t\t\txtest = X_test[i,:]\n",
        "\t\t\t\telse:\n",
        "\t\t\t\t\txtest = np.concatenate((X_test[i,j:],temPredict[:j]))\n",
        "\t\t\t\ttemPredict[j] = model.predict(xtest.reshape(1,look_back,1))\n",
        "\t\t\ttestPredict.append(temPredict)\n",
        "\t\ttestPredict = np.array(testPredict)\n",
        "\t\ttestPredict = testPredict.flatten()\n",
        "\n",
        "\t# invert predictions\n",
        "\ttrainPredict = scaler.inverse_transform(trainPredict.reshape(-1, 1))\n",
        "\ttrainY = scaler.inverse_transform(y_train)\n",
        "\ttestPredict = scaler.inverse_transform(testPredict.reshape(-1, 1))\n",
        "\ttestY = scaler.inverse_transform(y_test.flatten().reshape(-1, 1))\n",
        "\t# calculate root mean squared error\n",
        "\ttrainScore = math.sqrt(mean_squared_error(trainY.reshape(-1, 1), trainPredict.reshape(-1, 1)))\n",
        "\tprint('Train Score: %.2f RMSE' % (trainScore))\n",
        "\ttestScore = math.sqrt(mean_squared_error(testY.reshape(-1, 1), testPredict.reshape(-1, 1)))\n",
        "\tprint('Test Score: %.2f RMSE' % (testScore))\n",
        "\treturn trainPredict, testPredict"
      ],
      "metadata": {
        "id": "qLFf4LecQBc2"
      },
      "execution_count": null,
      "outputs": []
    },
    {
      "cell_type": "code",
      "source": [
        "def PintaResultado(dataset,trainPredict,testPredict,look_back):\n",
        "\ttrainPredictPlot = np.empty_like(dataset)\n",
        "\ttrainPredictPlot[:, :] = np.nan\n",
        "\ttrainPredictPlot[look_back:len(trainPredict)+look_back, :] = trainPredict\n",
        "\t# shift test predictions for plotting\n",
        "\ttestPredictPlot = np.empty_like(dataset+1)\n",
        "\ttestPredictPlot[:, :] = np.nan\n",
        "\tNtest = len(testPredict)\n",
        "\tNtestSpace = len(dataset)+1 - (len(trainPredict)+(look_back*2))\n",
        "\trestante = NtestSpace - Ntest\n",
        "\tprint(restante)\n",
        "\ttestPredictPlot[len(dataset)-len(testPredict):len(dataset)+1, :] = testPredict\n",
        "\t# plot baseline and predictions\n",
        "\tplt.figure(figsize=(10,4))\n",
        "\tplt.plot(dataset,label='Original Time serie')\n",
        "\tplt.plot(trainPredictPlot,label='Training prediction')\n",
        "\tplt.plot(testPredictPlot,label='Test prediction')\n",
        "\tplt.legend()\n",
        "\tplt.show()"
      ],
      "metadata": {
        "id": "bpkMRtaBSo5e"
      },
      "execution_count": null,
      "outputs": []
    },
    {
      "cell_type": "markdown",
      "source": [
        "## División de los datos\n",
        "\n",
        "Para la división de los datos, se tiene en cuenta los datos de la batería #5 para el entrenamiento y los datos de la batería #6 para el test, teniendo en cuenta que ambos conjuntos de baterías tienen la misma distribución y el mismo comportamiento decreciente de la capacidad."
      ],
      "metadata": {
        "id": "EFOJgO4q6wt5"
      }
    },
    {
      "cell_type": "code",
      "source": [
        "look_back = 15\n",
        "time_ahead = 15\n",
        "train = data_5_RUL\n",
        "test = data_6_RUL\n",
        "print(train.shape, test.shape)"
      ],
      "metadata": {
        "colab": {
          "base_uri": "https://localhost:8080/"
        },
        "id": "IW0Td619Fpoh",
        "outputId": "e413ed80-9987-4673-ae88-a4186ebfbb89"
      },
      "execution_count": null,
      "outputs": [
        {
          "output_type": "stream",
          "name": "stdout",
          "text": [
            "(168, 1) (168, 1)\n"
          ]
        }
      ]
    },
    {
      "cell_type": "code",
      "source": [
        "# normalize the dataset\n",
        "scaler = MinMaxScaler(feature_range=(0, 1))\n",
        "train_n = scaler.fit_transform(train)\n",
        "test_n = scaler.transform(test)"
      ],
      "metadata": {
        "id": "hxWrp1wQGxDg"
      },
      "execution_count": null,
      "outputs": []
    },
    {
      "cell_type": "code",
      "source": [
        "X_train, y_train = split_sequence(train_n, look_back)\n",
        "print(X_train.shape, y_train.shape)"
      ],
      "metadata": {
        "colab": {
          "base_uri": "https://localhost:8080/"
        },
        "id": "cgZeedkqHJ3g",
        "outputId": "f21ae644-eb59-41d2-b5db-6dce303abcb8"
      },
      "execution_count": null,
      "outputs": [
        {
          "output_type": "stream",
          "name": "stdout",
          "text": [
            "(153, 15, 1) (153, 1)\n"
          ]
        }
      ]
    },
    {
      "cell_type": "code",
      "source": [
        "X_test, y_test = create_datasetMultipleTimesBackAhead(test_n, n_steps_out=time_ahead, n_steps_in = look_back, overlap = time_ahead)\n",
        "print(X_test.shape, y_test.shape)"
      ],
      "metadata": {
        "colab": {
          "base_uri": "https://localhost:8080/"
        },
        "id": "sI1jiu17JljB",
        "outputId": "931a11ab-5cc3-48fb-830d-b77379b26068"
      },
      "execution_count": null,
      "outputs": [
        {
          "output_type": "stream",
          "name": "stdout",
          "text": [
            "(10, 15) (10, 15)\n"
          ]
        }
      ]
    },
    {
      "cell_type": "markdown",
      "source": [
        "## Modelo de predicción usando la capa recurrente"
      ],
      "metadata": {
        "id": "JCatyzIp7D4X"
      }
    },
    {
      "cell_type": "code",
      "source": [
        "modelo = Sequential()\n",
        "modelo.add(SimpleRNN(20,activation = 'relu',input_shape=(look_back,1)))\n",
        "modelo.add(Dropout(0.2))\n",
        "modelo.add(Dense(1))"
      ],
      "metadata": {
        "id": "rEZb4_0qJzcp"
      },
      "execution_count": null,
      "outputs": []
    },
    {
      "cell_type": "code",
      "source": [
        "modelo.compile(optimizer='adam',loss='mse')\n",
        "modelo.fit(X_train.reshape(X_train.shape[0],look_back,1),y_train.flatten(),epochs=500, verbose=False)"
      ],
      "metadata": {
        "colab": {
          "base_uri": "https://localhost:8080/"
        },
        "id": "2V4SNX9NJzYw",
        "outputId": "bfdad442-dc32-432c-d40f-7f99b5f05da0"
      },
      "execution_count": null,
      "outputs": [
        {
          "output_type": "execute_result",
          "data": {
            "text/plain": [
              "<keras.callbacks.History at 0x7f8adcd92790>"
            ]
          },
          "metadata": {},
          "execution_count": 72
        }
      ]
    },
    {
      "cell_type": "code",
      "source": [
        "trainPredict, testPredict = EstimaRMSE_RNN_MultiStep(modelo,X_train,X_test,y_train,y_test,scaler,look_back,time_ahead,0)"
      ],
      "metadata": {
        "id": "VKwJEhF5FpfR",
        "colab": {
          "base_uri": "https://localhost:8080/"
        },
        "outputId": "b0c60822-7e14-4ad2-e134-dcbf2464936d"
      },
      "execution_count": null,
      "outputs": [
        {
          "output_type": "stream",
          "name": "stdout",
          "text": [
            "Train Score: 0.02 RMSE\n",
            "Test Score: 0.07 RMSE\n"
          ]
        }
      ]
    },
    {
      "cell_type": "code",
      "source": [
        "PintaResultado(data_6_RUL,trainPredict,testPredict,look_back)"
      ],
      "metadata": {
        "id": "UmI5x0cl27uZ",
        "colab": {
          "base_uri": "https://localhost:8080/",
          "height": 283
        },
        "outputId": "92624c78-38d1-46cd-a2a3-084131c68517"
      },
      "execution_count": null,
      "outputs": [
        {
          "output_type": "stream",
          "name": "stdout",
          "text": [
            "-164\n"
          ]
        },
        {
          "output_type": "display_data",
          "data": {
            "text/plain": [
              "<Figure size 720x288 with 1 Axes>"
            ],
            "image/png": "[encoded data removed]"
          },
          "metadata": {
            "needs_background": "light"
          }
        }
      ]
    },
    {
      "cell_type": "markdown",
      "source": [
        "Según los resultados, el RMSE para el entrenamiento es 2% y para el test es del 9%. Según la gráfica, se observa que la predicción se ajusta a los datos reales, con diferencias en algunas partes de la predicción. Sin embargo, el modelo predice el comportamiento decreciente de la capacidad.\n"
      ],
      "metadata": {
        "id": "K6OT6BAM6nd8"
      }
    },
    {
      "cell_type": "markdown",
      "source": [
        "## Modelo de predicción usando las capas LSTM"
      ],
      "metadata": {
        "id": "cKPGVJQL6oKb"
      }
    },
    {
      "cell_type": "code",
      "source": [
        "# Se implementa un modelo teniendo en cuenta capas LSTM\n",
        "modelo_LSTM = Sequential()\n",
        "modelo_LSTM.add(LSTM(128, input_shape = (X_train.shape[1],1), return_sequences=True, activation = \"tanh\"))\n",
        "modelo_LSTM.add(LSTM(64, activation = \"tanh\", return_sequences = True))\n",
        "modelo_LSTM.add(LSTM(32, activation = \"tanh\"))\n",
        "modelo_LSTM.add(Dense(96, activation = \"relu\"))\n",
        "modelo_LSTM.add(Dense(128, activation = \"relu\"))\n",
        "modelo_LSTM.add(Dense(units=1))"
      ],
      "metadata": {
        "id": "tae5uYU627m-"
      },
      "execution_count": null,
      "outputs": []
    },
    {
      "cell_type": "code",
      "source": [
        "# Se compila el modelo\n",
        "modelo_LSTM.compile(optimizer=Adam(beta_1=0.9, beta_2=0.999, epsilon=1e-08), loss='mean_absolute_error')\n",
        "modelo_LSTM.fit(X_train.reshape(X_train.shape[0],look_back,1),y_train.flatten(),epochs=500, verbose=False)"
      ],
      "metadata": {
        "id": "DMSFpb2L27jg",
        "colab": {
          "base_uri": "https://localhost:8080/"
        },
        "outputId": "82c8fe6b-1817-4b9d-f7c1-dacfc6faad05"
      },
      "execution_count": null,
      "outputs": [
        {
          "output_type": "execute_result",
          "data": {
            "text/plain": [
              "<keras.callbacks.History at 0x7f8ad8bbf750>"
            ]
          },
          "metadata": {},
          "execution_count": 76
        }
      ]
    },
    {
      "cell_type": "code",
      "source": [
        "trainPredict_LSTM, testPredict_LSTM = EstimaRMSE_RNN_MultiStep(modelo_LSTM,X_train,X_test,y_train,y_test,scaler,look_back,time_ahead,0)"
      ],
      "metadata": {
        "colab": {
          "base_uri": "https://localhost:8080/"
        },
        "id": "np5F5iwR8gDm",
        "outputId": "4c1ffc29-78d5-4a5e-9649-6e1896b72c2f"
      },
      "execution_count": null,
      "outputs": [
        {
          "output_type": "stream",
          "name": "stdout",
          "text": [
            "Train Score: 0.01 RMSE\n",
            "Test Score: 0.09 RMSE\n"
          ]
        }
      ]
    },
    {
      "cell_type": "code",
      "source": [
        "PintaResultado(data_6_RUL,trainPredict_LSTM,testPredict_LSTM,look_back)"
      ],
      "metadata": {
        "id": "DkPW4B9n3dAx",
        "colab": {
          "base_uri": "https://localhost:8080/",
          "height": 283
        },
        "outputId": "827a0aca-b254-435f-aa3a-5e13a6ec6678"
      },
      "execution_count": null,
      "outputs": [
        {
          "output_type": "stream",
          "name": "stdout",
          "text": [
            "-164\n"
          ]
        },
        {
          "output_type": "display_data",
          "data": {
            "text/plain": [
              "<Figure size 720x288 with 1 Axes>"
            ],
            "image/png": "[encoded data removed]"
          },
          "metadata": {
            "needs_background": "light"
          }
        }
      ]
    },
    {
      "cell_type": "markdown",
      "source": [
        "Con el modelo de capas LSTM, se observa que se obtiene un RMSE del 1% para los datos de entrenamiento y para los datos de test, se obtiene un RMSE del 5%. En este caso, se observa un mejor nivel de predicción usando las capas LSTM, ya que es capaz de capturar el comportamiento decreciente de la capacidad.\n",
        "\n",
        "Así mismo, la predicción se ve más suavizada en comparación con la predicción obtenida en el modelo anterior."
      ],
      "metadata": {
        "id": "GPzGJQgI8vJA"
      }
    },
    {
      "cell_type": "markdown",
      "source": [
        "**Conclusión:** Con los modelos definidos anteriormente, se observa que se captura el comportamiento decreciente de la capacidad de la batería y según el RMSE calculado para el conjunto de test, se observa un buen error y gráficamente un buen ajuste en la predicción, teniendo en cuenta que se está prediciendo la capacidad a los 15 ciclos siguientes.\n",
        "\n",
        "Además, se observa un mejor comportamiento en la predicción usando el modelo con capas LSTM en comparación con el modelo obtenido con la capa recurrente. En este caso, se demuestra que para predecir varios tiempos a futuro, las capas LSTM tienen una mejor precisión en la predicción, ya que son capaces de capturar el comportamiento decreciente de la batería."
      ],
      "metadata": {
        "id": "my0l0-l08vZq"
      }
    }
  ]
}
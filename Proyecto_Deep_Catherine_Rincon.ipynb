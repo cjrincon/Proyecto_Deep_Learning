{
  "nbformat": 4,
  "nbformat_minor": 0,
  "metadata": {
    "colab": {
      "name": "Proyecto_Deep_Catherine_Rincon.ipynb",
      "provenance": [],
      "mount_file_id": "1j1ZkoufSI5deDR9J6TkpO7G8neHaSQe6",
      "authorship_tag": "ABX9TyPfX2MnXZETlI5F7V4LDKgZ",
      "include_colab_link": true
    },
    "kernelspec": {
      "name": "python3",
      "display_name": "Python 3"
    },
    "language_info": {
      "name": "python"
    }
  },
  "cells": [
    {
      "cell_type": "markdown",
      "metadata": {
        "id": "view-in-github",
        "colab_type": "text"
      },
      "source": [
        "<a href=\"https://colab.research.google.com/github/cjrincon/Proyecto_Deep_Learning/blob/main/Proyecto_Deep_Catherine_Rincon.ipynb\" target=\"_parent\"><img src=\"https://colab.research.google.com/assets/colab-badge.svg\" alt=\"Open In Colab\"/></a>"
      ]
    },
    {
      "cell_type": "markdown",
      "source": [
        "# **Proyecto**\n",
        "\n",
        "El proyecto pretende predecir la vida útil remanente RUL a partir de una red LSTM.\n",
        "\n",
        "\n",
        "Datos de entrada:\n",
        "\n",
        "\n",
        "Datos de salida:\n",
        "\n"
      ],
      "metadata": {
        "id": "aT7Y2uzddXGr"
      }
    },
    {
      "cell_type": "markdown",
      "source": [
        "## Cargar las librerías necesarias para el desarrollo del proyecto"
      ],
      "metadata": {
        "id": "0iQPlVSHjuDk"
      }
    },
    {
      "cell_type": "code",
      "source": [
        "import numpy as np\n",
        "import pandas as pd\n",
        "import datetime\n",
        "import matplotlib.pyplot as plt\n",
        "import seaborn as sns"
      ],
      "metadata": {
        "id": "_56kryxKjk3m"
      },
      "execution_count": null,
      "outputs": []
    },
    {
      "cell_type": "markdown",
      "source": [
        "## Lectura de los datos"
      ],
      "metadata": {
        "id": "xNuQ0njfjlj9"
      }
    },
    {
      "cell_type": "code",
      "execution_count": null,
      "metadata": {
        "id": "mJqsk43FfGVL"
      },
      "outputs": [],
      "source": [
        "# Datos de la batería #5\n",
        "bat_5 = pd.read_csv('/content/drive/MyDrive/Maestría/Proyecto/raw_data_05.csv')\n",
        "# Datos de la batería #6\n",
        "bat_6 = pd.read_csv('/content/drive/MyDrive/Maestría/Proyecto/raw_data_06.csv')\n",
        "# Datos de la batería #7\n",
        "bat_7 = pd.read_csv('/content/drive/MyDrive/Maestría/Proyecto/raw_data_07.csv')\n",
        "# Datos de la batería #18\n",
        "bat_18 = pd.read_csv('/content/drive/MyDrive/Maestría/Proyecto/raw_data_18.csv')"
      ]
    },
    {
      "cell_type": "code",
      "source": [
        "bat_5.head()"
      ],
      "metadata": {
        "id": "QLRDRY9Xoz1W",
        "colab": {
          "base_uri": "https://localhost:8080/",
          "height": 206
        },
        "outputId": "aaf62263-8793-4bdf-f802-12f95e26becb"
      },
      "execution_count": null,
      "outputs": [
        {
          "output_type": "execute_result",
          "data": {
            "text/plain": [
              "   cycle  ambient_temperature             datetime  capacity  \\\n",
              "0      1                   24  2008-04-02 15:25:41  1.856487   \n",
              "1      1                   24  2008-04-02 15:25:41  1.856487   \n",
              "2      1                   24  2008-04-02 15:25:41  1.856487   \n",
              "3      1                   24  2008-04-02 15:25:41  1.856487   \n",
              "4      1                   24  2008-04-02 15:25:41  1.856487   \n",
              "\n",
              "   voltage_measured  current_measured  temperature_measured  current_load  \\\n",
              "0          4.191492         -0.004902             24.330034       -0.0006   \n",
              "1          4.190749         -0.001478             24.325993       -0.0006   \n",
              "2          3.974871         -2.012528             24.389085       -1.9982   \n",
              "3          3.951717         -2.013979             24.544752       -1.9982   \n",
              "4          3.934352         -2.011144             24.731385       -1.9982   \n",
              "\n",
              "   voltage_load    time  \n",
              "0         0.000   0.000  \n",
              "1         4.206  16.781  \n",
              "2         3.062  35.703  \n",
              "3         3.030  53.781  \n",
              "4         3.011  71.922  "
            ],
            "text/html": [
              "\n",
              "  <div id=\"df-538a462e-78ce-4564-93b7-c10c4e937fb7\">\n",
              "    <div class=\"colab-df-container\">\n",
              "      <div>\n",
              "<style scoped>\n",
              "    .dataframe tbody tr th:only-of-type {\n",
              "        vertical-align: middle;\n",
              "    }\n",
              "\n",
              "    .dataframe tbody tr th {\n",
              "        vertical-align: top;\n",
              "    }\n",
              "\n",
              "    .dataframe thead th {\n",
              "        text-align: right;\n",
              "    }\n",
              "</style>\n",
              "<table border=\"1\" class=\"dataframe\">\n",
              "  <thead>\n",
              "    <tr style=\"text-align: right;\">\n",
              "      <th></th>\n",
              "      <th>cycle</th>\n",
              "      <th>ambient_temperature</th>\n",
              "      <th>datetime</th>\n",
              "      <th>capacity</th>\n",
              "      <th>voltage_measured</th>\n",
              "      <th>current_measured</th>\n",
              "      <th>temperature_measured</th>\n",
              "      <th>current_load</th>\n",
              "      <th>voltage_load</th>\n",
              "      <th>time</th>\n",
              "    </tr>\n",
              "  </thead>\n",
              "  <tbody>\n",
              "    <tr>\n",
              "      <th>0</th>\n",
              "      <td>1</td>\n",
              "      <td>24</td>\n",
              "      <td>2008-04-02 15:25:41</td>\n",
              "      <td>1.856487</td>\n",
              "      <td>4.191492</td>\n",
              "      <td>-0.004902</td>\n",
              "      <td>24.330034</td>\n",
              "      <td>-0.0006</td>\n",
              "      <td>0.000</td>\n",
              "      <td>0.000</td>\n",
              "    </tr>\n",
              "    <tr>\n",
              "      <th>1</th>\n",
              "      <td>1</td>\n",
              "      <td>24</td>\n",
              "      <td>2008-04-02 15:25:41</td>\n",
              "      <td>1.856487</td>\n",
              "      <td>4.190749</td>\n",
              "      <td>-0.001478</td>\n",
              "      <td>24.325993</td>\n",
              "      <td>-0.0006</td>\n",
              "      <td>4.206</td>\n",
              "      <td>16.781</td>\n",
              "    </tr>\n",
              "    <tr>\n",
              "      <th>2</th>\n",
              "      <td>1</td>\n",
              "      <td>24</td>\n",
              "      <td>2008-04-02 15:25:41</td>\n",
              "      <td>1.856487</td>\n",
              "      <td>3.974871</td>\n",
              "      <td>-2.012528</td>\n",
              "      <td>24.389085</td>\n",
              "      <td>-1.9982</td>\n",
              "      <td>3.062</td>\n",
              "      <td>35.703</td>\n",
              "    </tr>\n",
              "    <tr>\n",
              "      <th>3</th>\n",
              "      <td>1</td>\n",
              "      <td>24</td>\n",
              "      <td>2008-04-02 15:25:41</td>\n",
              "      <td>1.856487</td>\n",
              "      <td>3.951717</td>\n",
              "      <td>-2.013979</td>\n",
              "      <td>24.544752</td>\n",
              "      <td>-1.9982</td>\n",
              "      <td>3.030</td>\n",
              "      <td>53.781</td>\n",
              "    </tr>\n",
              "    <tr>\n",
              "      <th>4</th>\n",
              "      <td>1</td>\n",
              "      <td>24</td>\n",
              "      <td>2008-04-02 15:25:41</td>\n",
              "      <td>1.856487</td>\n",
              "      <td>3.934352</td>\n",
              "      <td>-2.011144</td>\n",
              "      <td>24.731385</td>\n",
              "      <td>-1.9982</td>\n",
              "      <td>3.011</td>\n",
              "      <td>71.922</td>\n",
              "    </tr>\n",
              "  </tbody>\n",
              "</table>\n",
              "</div>\n",
              "      <button class=\"colab-df-convert\" onclick=\"convertToInteractive('df-538a462e-78ce-4564-93b7-c10c4e937fb7')\"\n",
              "              title=\"Convert this dataframe to an interactive table.\"\n",
              "              style=\"display:none;\">\n",
              "        \n",
              "  <svg xmlns=\"http://www.w3.org/2000/svg\" height=\"24px\"viewBox=\"0 0 24 24\"\n",
              "       width=\"24px\">\n",
              "    <path d=\"M0 0h24v24H0V0z\" fill=\"none\"/>\n",
              "    <path d=\"M18.56 5.44l.94 2.06.94-2.06 2.06-.94-2.06-.94-.94-2.06-.94 2.06-2.06.94zm-11 1L8.5 8.5l.94-2.06 2.06-.94-2.06-.94L8.5 2.5l-.94 2.06-2.06.94zm10 10l.94 2.06.94-2.06 2.06-.94-2.06-.94-.94-2.06-.94 2.06-2.06.94z\"/><path d=\"M17.41 7.96l-1.37-1.37c-.4-.4-.92-.59-1.43-.59-.52 0-1.04.2-1.43.59L10.3 9.45l-7.72 7.72c-.78.78-.78 2.05 0 2.83L4 21.41c.39.39.9.59 1.41.59.51 0 1.02-.2 1.41-.59l7.78-7.78 2.81-2.81c.8-.78.8-2.07 0-2.86zM5.41 20L4 18.59l7.72-7.72 1.47 1.35L5.41 20z\"/>\n",
              "  </svg>\n",
              "      </button>\n",
              "      \n",
              "  <style>\n",
              "    .colab-df-container {\n",
              "      display:flex;\n",
              "      flex-wrap:wrap;\n",
              "      gap: 12px;\n",
              "    }\n",
              "\n",
              "    .colab-df-convert {\n",
              "      background-color: #E8F0FE;\n",
              "      border: none;\n",
              "      border-radius: 50%;\n",
              "      cursor: pointer;\n",
              "      display: none;\n",
              "      fill: #1967D2;\n",
              "      height: 32px;\n",
              "      padding: 0 0 0 0;\n",
              "      width: 32px;\n",
              "    }\n",
              "\n",
              "    .colab-df-convert:hover {\n",
              "      background-color: #E2EBFA;\n",
              "      box-shadow: 0px 1px 2px rgba(60, 64, 67, 0.3), 0px 1px 3px 1px rgba(60, 64, 67, 0.15);\n",
              "      fill: #174EA6;\n",
              "    }\n",
              "\n",
              "    [theme=dark] .colab-df-convert {\n",
              "      background-color: #3B4455;\n",
              "      fill: #D2E3FC;\n",
              "    }\n",
              "\n",
              "    [theme=dark] .colab-df-convert:hover {\n",
              "      background-color: #434B5C;\n",
              "      box-shadow: 0px 1px 3px 1px rgba(0, 0, 0, 0.15);\n",
              "      filter: drop-shadow(0px 1px 2px rgba(0, 0, 0, 0.3));\n",
              "      fill: #FFFFFF;\n",
              "    }\n",
              "  </style>\n",
              "\n",
              "      <script>\n",
              "        const buttonEl =\n",
              "          document.querySelector('#df-538a462e-78ce-4564-93b7-c10c4e937fb7 button.colab-df-convert');\n",
              "        buttonEl.style.display =\n",
              "          google.colab.kernel.accessAllowed ? 'block' : 'none';\n",
              "\n",
              "        async function convertToInteractive(key) {\n",
              "          const element = document.querySelector('#df-538a462e-78ce-4564-93b7-c10c4e937fb7');\n",
              "          const dataTable =\n",
              "            await google.colab.kernel.invokeFunction('convertToInteractive',\n",
              "                                                     [key], {});\n",
              "          if (!dataTable) return;\n",
              "\n",
              "          const docLinkHtml = 'Like what you see? Visit the ' +\n",
              "            '<a target=\"_blank\" href=https://colab.research.google.com/notebooks/data_table.ipynb>data table notebook</a>'\n",
              "            + ' to learn more about interactive tables.';\n",
              "          element.innerHTML = '';\n",
              "          dataTable['output_type'] = 'display_data';\n",
              "          await google.colab.output.renderOutput(dataTable, element);\n",
              "          const docLink = document.createElement('div');\n",
              "          docLink.innerHTML = docLinkHtml;\n",
              "          element.appendChild(docLink);\n",
              "        }\n",
              "      </script>\n",
              "    </div>\n",
              "  </div>\n",
              "  "
            ]
          },
          "metadata": {},
          "execution_count": 15
        }
      ]
    },
    {
      "cell_type": "code",
      "source": [
        "# Se agrega una columna para identificar cada tipo de batería\n",
        "bat_5 = bat_5.assign(battery=5)\n",
        "bat_6 = bat_6.assign(battery=6)\n",
        "bat_7 = bat_7.assign(battery=7)\n",
        "bat_18 = bat_18.assign(battery=18)"
      ],
      "metadata": {
        "id": "Hij4Dwxth3Hl"
      },
      "execution_count": null,
      "outputs": []
    },
    {
      "cell_type": "code",
      "source": [
        "# Se crea una base de datos consolidando los datos de las 4 baterías\n",
        "data = pd.concat([bat_5, bat_6, bat_7, bat_18])\n",
        "data"
      ],
      "metadata": {
        "colab": {
          "base_uri": "https://localhost:8080/",
          "height": 423
        },
        "id": "7PzNrjQ0hf7X",
        "outputId": "cddb77b2-0ced-47ed-c70f-1cd85c5487e4"
      },
      "execution_count": null,
      "outputs": [
        {
          "output_type": "execute_result",
          "data": {
            "text/plain": [
              "       cycle  ambient_temperature             datetime  capacity  \\\n",
              "0          1                   24  2008-04-02 15:25:41  1.856487   \n",
              "1          1                   24  2008-04-02 15:25:41  1.856487   \n",
              "2          1                   24  2008-04-02 15:25:41  1.856487   \n",
              "3          1                   24  2008-04-02 15:25:41  1.856487   \n",
              "4          1                   24  2008-04-02 15:25:41  1.856487   \n",
              "...      ...                  ...                  ...       ...   \n",
              "34861    132                   24  2008-08-20 08:37:19  1.341051   \n",
              "34862    132                   24  2008-08-20 08:37:19  1.341051   \n",
              "34863    132                   24  2008-08-20 08:37:19  1.341051   \n",
              "34864    132                   24  2008-08-20 08:37:19  1.341051   \n",
              "34865    132                   24  2008-08-20 08:37:19  1.341051   \n",
              "\n",
              "       voltage_measured  current_measured  temperature_measured  current_load  \\\n",
              "0              4.191492         -0.004902             24.330034       -0.0006   \n",
              "1              4.190749         -0.001478             24.325993       -0.0006   \n",
              "2              3.974871         -2.012528             24.389085       -1.9982   \n",
              "3              3.951717         -2.013979             24.544752       -1.9982   \n",
              "4              3.934352         -2.011144             24.731385       -1.9982   \n",
              "...                 ...               ...                   ...           ...   \n",
              "34861          3.443760         -0.002426             35.383979        0.0006   \n",
              "34862          3.453271         -0.000981             35.179732        0.0006   \n",
              "34863          3.461963          0.000209             34.977000        0.0006   \n",
              "34864          3.469907          0.001516             34.785943        0.0006   \n",
              "34865          3.477277         -0.001940             34.581660        0.0006   \n",
              "\n",
              "       voltage_load      time  battery  \n",
              "0             0.000     0.000        5  \n",
              "1             4.206    16.781        5  \n",
              "2             3.062    35.703        5  \n",
              "3             3.030    53.781        5  \n",
              "4             3.011    71.922        5  \n",
              "...             ...       ...      ...  \n",
              "34861         0.000  2686.359       18  \n",
              "34862         0.000  2700.546       18  \n",
              "34863         0.000  2714.640       18  \n",
              "34864         0.000  2728.750       18  \n",
              "34865         0.000  2742.843       18  \n",
              "\n",
              "[185721 rows x 11 columns]"
            ],
            "text/html": [
              "\n",
              "  <div id=\"df-ca78f2f6-602c-4c3a-be4d-ddbecdd17f9c\">\n",
              "    <div class=\"colab-df-container\">\n",
              "      <div>\n",
              "<style scoped>\n",
              "    .dataframe tbody tr th:only-of-type {\n",
              "        vertical-align: middle;\n",
              "    }\n",
              "\n",
              "    .dataframe tbody tr th {\n",
              "        vertical-align: top;\n",
              "    }\n",
              "\n",
              "    .dataframe thead th {\n",
              "        text-align: right;\n",
              "    }\n",
              "</style>\n",
              "<table border=\"1\" class=\"dataframe\">\n",
              "  <thead>\n",
              "    <tr style=\"text-align: right;\">\n",
              "      <th></th>\n",
              "      <th>cycle</th>\n",
              "      <th>ambient_temperature</th>\n",
              "      <th>datetime</th>\n",
              "      <th>capacity</th>\n",
              "      <th>voltage_measured</th>\n",
              "      <th>current_measured</th>\n",
              "      <th>temperature_measured</th>\n",
              "      <th>current_load</th>\n",
              "      <th>voltage_load</th>\n",
              "      <th>time</th>\n",
              "      <th>battery</th>\n",
              "    </tr>\n",
              "  </thead>\n",
              "  <tbody>\n",
              "    <tr>\n",
              "      <th>0</th>\n",
              "      <td>1</td>\n",
              "      <td>24</td>\n",
              "      <td>2008-04-02 15:25:41</td>\n",
              "      <td>1.856487</td>\n",
              "      <td>4.191492</td>\n",
              "      <td>-0.004902</td>\n",
              "      <td>24.330034</td>\n",
              "      <td>-0.0006</td>\n",
              "      <td>0.000</td>\n",
              "      <td>0.000</td>\n",
              "      <td>5</td>\n",
              "    </tr>\n",
              "    <tr>\n",
              "      <th>1</th>\n",
              "      <td>1</td>\n",
              "      <td>24</td>\n",
              "      <td>2008-04-02 15:25:41</td>\n",
              "      <td>1.856487</td>\n",
              "      <td>4.190749</td>\n",
              "      <td>-0.001478</td>\n",
              "      <td>24.325993</td>\n",
              "      <td>-0.0006</td>\n",
              "      <td>4.206</td>\n",
              "      <td>16.781</td>\n",
              "      <td>5</td>\n",
              "    </tr>\n",
              "    <tr>\n",
              "      <th>2</th>\n",
              "      <td>1</td>\n",
              "      <td>24</td>\n",
              "      <td>2008-04-02 15:25:41</td>\n",
              "      <td>1.856487</td>\n",
              "      <td>3.974871</td>\n",
              "      <td>-2.012528</td>\n",
              "      <td>24.389085</td>\n",
              "      <td>-1.9982</td>\n",
              "      <td>3.062</td>\n",
              "      <td>35.703</td>\n",
              "      <td>5</td>\n",
              "    </tr>\n",
              "    <tr>\n",
              "      <th>3</th>\n",
              "      <td>1</td>\n",
              "      <td>24</td>\n",
              "      <td>2008-04-02 15:25:41</td>\n",
              "      <td>1.856487</td>\n",
              "      <td>3.951717</td>\n",
              "      <td>-2.013979</td>\n",
              "      <td>24.544752</td>\n",
              "      <td>-1.9982</td>\n",
              "      <td>3.030</td>\n",
              "      <td>53.781</td>\n",
              "      <td>5</td>\n",
              "    </tr>\n",
              "    <tr>\n",
              "      <th>4</th>\n",
              "      <td>1</td>\n",
              "      <td>24</td>\n",
              "      <td>2008-04-02 15:25:41</td>\n",
              "      <td>1.856487</td>\n",
              "      <td>3.934352</td>\n",
              "      <td>-2.011144</td>\n",
              "      <td>24.731385</td>\n",
              "      <td>-1.9982</td>\n",
              "      <td>3.011</td>\n",
              "      <td>71.922</td>\n",
              "      <td>5</td>\n",
              "    </tr>\n",
              "    <tr>\n",
              "      <th>...</th>\n",
              "      <td>...</td>\n",
              "      <td>...</td>\n",
              "      <td>...</td>\n",
              "      <td>...</td>\n",
              "      <td>...</td>\n",
              "      <td>...</td>\n",
              "      <td>...</td>\n",
              "      <td>...</td>\n",
              "      <td>...</td>\n",
              "      <td>...</td>\n",
              "      <td>...</td>\n",
              "    </tr>\n",
              "    <tr>\n",
              "      <th>34861</th>\n",
              "      <td>132</td>\n",
              "      <td>24</td>\n",
              "      <td>2008-08-20 08:37:19</td>\n",
              "      <td>1.341051</td>\n",
              "      <td>3.443760</td>\n",
              "      <td>-0.002426</td>\n",
              "      <td>35.383979</td>\n",
              "      <td>0.0006</td>\n",
              "      <td>0.000</td>\n",
              "      <td>2686.359</td>\n",
              "      <td>18</td>\n",
              "    </tr>\n",
              "    <tr>\n",
              "      <th>34862</th>\n",
              "      <td>132</td>\n",
              "      <td>24</td>\n",
              "      <td>2008-08-20 08:37:19</td>\n",
              "      <td>1.341051</td>\n",
              "      <td>3.453271</td>\n",
              "      <td>-0.000981</td>\n",
              "      <td>35.179732</td>\n",
              "      <td>0.0006</td>\n",
              "      <td>0.000</td>\n",
              "      <td>2700.546</td>\n",
              "      <td>18</td>\n",
              "    </tr>\n",
              "    <tr>\n",
              "      <th>34863</th>\n",
              "      <td>132</td>\n",
              "      <td>24</td>\n",
              "      <td>2008-08-20 08:37:19</td>\n",
              "      <td>1.341051</td>\n",
              "      <td>3.461963</td>\n",
              "      <td>0.000209</td>\n",
              "      <td>34.977000</td>\n",
              "      <td>0.0006</td>\n",
              "      <td>0.000</td>\n",
              "      <td>2714.640</td>\n",
              "      <td>18</td>\n",
              "    </tr>\n",
              "    <tr>\n",
              "      <th>34864</th>\n",
              "      <td>132</td>\n",
              "      <td>24</td>\n",
              "      <td>2008-08-20 08:37:19</td>\n",
              "      <td>1.341051</td>\n",
              "      <td>3.469907</td>\n",
              "      <td>0.001516</td>\n",
              "      <td>34.785943</td>\n",
              "      <td>0.0006</td>\n",
              "      <td>0.000</td>\n",
              "      <td>2728.750</td>\n",
              "      <td>18</td>\n",
              "    </tr>\n",
              "    <tr>\n",
              "      <th>34865</th>\n",
              "      <td>132</td>\n",
              "      <td>24</td>\n",
              "      <td>2008-08-20 08:37:19</td>\n",
              "      <td>1.341051</td>\n",
              "      <td>3.477277</td>\n",
              "      <td>-0.001940</td>\n",
              "      <td>34.581660</td>\n",
              "      <td>0.0006</td>\n",
              "      <td>0.000</td>\n",
              "      <td>2742.843</td>\n",
              "      <td>18</td>\n",
              "    </tr>\n",
              "  </tbody>\n",
              "</table>\n",
              "<p>185721 rows × 11 columns</p>\n",
              "</div>\n",
              "      <button class=\"colab-df-convert\" onclick=\"convertToInteractive('df-ca78f2f6-602c-4c3a-be4d-ddbecdd17f9c')\"\n",
              "              title=\"Convert this dataframe to an interactive table.\"\n",
              "              style=\"display:none;\">\n",
              "        \n",
              "  <svg xmlns=\"http://www.w3.org/2000/svg\" height=\"24px\"viewBox=\"0 0 24 24\"\n",
              "       width=\"24px\">\n",
              "    <path d=\"M0 0h24v24H0V0z\" fill=\"none\"/>\n",
              "    <path d=\"M18.56 5.44l.94 2.06.94-2.06 2.06-.94-2.06-.94-.94-2.06-.94 2.06-2.06.94zm-11 1L8.5 8.5l.94-2.06 2.06-.94-2.06-.94L8.5 2.5l-.94 2.06-2.06.94zm10 10l.94 2.06.94-2.06 2.06-.94-2.06-.94-.94-2.06-.94 2.06-2.06.94z\"/><path d=\"M17.41 7.96l-1.37-1.37c-.4-.4-.92-.59-1.43-.59-.52 0-1.04.2-1.43.59L10.3 9.45l-7.72 7.72c-.78.78-.78 2.05 0 2.83L4 21.41c.39.39.9.59 1.41.59.51 0 1.02-.2 1.41-.59l7.78-7.78 2.81-2.81c.8-.78.8-2.07 0-2.86zM5.41 20L4 18.59l7.72-7.72 1.47 1.35L5.41 20z\"/>\n",
              "  </svg>\n",
              "      </button>\n",
              "      \n",
              "  <style>\n",
              "    .colab-df-container {\n",
              "      display:flex;\n",
              "      flex-wrap:wrap;\n",
              "      gap: 12px;\n",
              "    }\n",
              "\n",
              "    .colab-df-convert {\n",
              "      background-color: #E8F0FE;\n",
              "      border: none;\n",
              "      border-radius: 50%;\n",
              "      cursor: pointer;\n",
              "      display: none;\n",
              "      fill: #1967D2;\n",
              "      height: 32px;\n",
              "      padding: 0 0 0 0;\n",
              "      width: 32px;\n",
              "    }\n",
              "\n",
              "    .colab-df-convert:hover {\n",
              "      background-color: #E2EBFA;\n",
              "      box-shadow: 0px 1px 2px rgba(60, 64, 67, 0.3), 0px 1px 3px 1px rgba(60, 64, 67, 0.15);\n",
              "      fill: #174EA6;\n",
              "    }\n",
              "\n",
              "    [theme=dark] .colab-df-convert {\n",
              "      background-color: #3B4455;\n",
              "      fill: #D2E3FC;\n",
              "    }\n",
              "\n",
              "    [theme=dark] .colab-df-convert:hover {\n",
              "      background-color: #434B5C;\n",
              "      box-shadow: 0px 1px 3px 1px rgba(0, 0, 0, 0.15);\n",
              "      filter: drop-shadow(0px 1px 2px rgba(0, 0, 0, 0.3));\n",
              "      fill: #FFFFFF;\n",
              "    }\n",
              "  </style>\n",
              "\n",
              "      <script>\n",
              "        const buttonEl =\n",
              "          document.querySelector('#df-ca78f2f6-602c-4c3a-be4d-ddbecdd17f9c button.colab-df-convert');\n",
              "        buttonEl.style.display =\n",
              "          google.colab.kernel.accessAllowed ? 'block' : 'none';\n",
              "\n",
              "        async function convertToInteractive(key) {\n",
              "          const element = document.querySelector('#df-ca78f2f6-602c-4c3a-be4d-ddbecdd17f9c');\n",
              "          const dataTable =\n",
              "            await google.colab.kernel.invokeFunction('convertToInteractive',\n",
              "                                                     [key], {});\n",
              "          if (!dataTable) return;\n",
              "\n",
              "          const docLinkHtml = 'Like what you see? Visit the ' +\n",
              "            '<a target=\"_blank\" href=https://colab.research.google.com/notebooks/data_table.ipynb>data table notebook</a>'\n",
              "            + ' to learn more about interactive tables.';\n",
              "          element.innerHTML = '';\n",
              "          dataTable['output_type'] = 'display_data';\n",
              "          await google.colab.output.renderOutput(dataTable, element);\n",
              "          const docLink = document.createElement('div');\n",
              "          docLink.innerHTML = docLinkHtml;\n",
              "          element.appendChild(docLink);\n",
              "        }\n",
              "      </script>\n",
              "    </div>\n",
              "  </div>\n",
              "  "
            ]
          },
          "metadata": {},
          "execution_count": 17
        }
      ]
    },
    {
      "cell_type": "code",
      "source": [
        "# Se valida el tipo de dato y si hay nulos en la base de datos\n",
        "data.info()"
      ],
      "metadata": {
        "colab": {
          "base_uri": "https://localhost:8080/"
        },
        "id": "v29ePho7i7Sc",
        "outputId": "cd6c40d9-8687-4845-c33c-dc89e77519e1"
      },
      "execution_count": null,
      "outputs": [
        {
          "output_type": "stream",
          "name": "stdout",
          "text": [
            "<class 'pandas.core.frame.DataFrame'>\n",
            "Int64Index: 185721 entries, 0 to 34865\n",
            "Data columns (total 11 columns):\n",
            " #   Column                Non-Null Count   Dtype  \n",
            "---  ------                --------------   -----  \n",
            " 0   cycle                 185721 non-null  int64  \n",
            " 1   ambient_temperature   185721 non-null  int64  \n",
            " 2   datetime              185721 non-null  object \n",
            " 3   capacity              185721 non-null  float64\n",
            " 4   voltage_measured      185721 non-null  float64\n",
            " 5   current_measured      185721 non-null  float64\n",
            " 6   temperature_measured  185721 non-null  float64\n",
            " 7   current_load          185721 non-null  float64\n",
            " 8   voltage_load          185721 non-null  float64\n",
            " 9   time                  185721 non-null  float64\n",
            " 10  battery               185721 non-null  int64  \n",
            "dtypes: float64(7), int64(3), object(1)\n",
            "memory usage: 17.0+ MB\n"
          ]
        }
      ]
    },
    {
      "cell_type": "code",
      "source": [
        "# Se validan las medidas estadísticas de cada columna\n",
        "data.describe()"
      ],
      "metadata": {
        "colab": {
          "base_uri": "https://localhost:8080/",
          "height": 300
        },
        "id": "x1MiH4OIhvrj",
        "outputId": "77f6243b-0974-4514-ade1-6000b3f86f6b"
      },
      "execution_count": null,
      "outputs": [
        {
          "output_type": "execute_result",
          "data": {
            "text/plain": [
              "               cycle  ambient_temperature       capacity  voltage_measured  \\\n",
              "count  185721.000000             185721.0  185721.000000     185721.000000   \n",
              "mean       82.838758                 24.0       1.574863          3.497219   \n",
              "std        45.692247                  0.0       0.190633          0.251691   \n",
              "min         1.000000                 24.0       1.153818          1.737030   \n",
              "25%        45.000000                 24.0       1.426025          3.377653   \n",
              "50%        81.000000                 24.0       1.559634          3.500859   \n",
              "75%       120.000000                 24.0       1.741850          3.655751   \n",
              "max       168.000000                 24.0       2.035338          4.233325   \n",
              "\n",
              "       current_measured  temperature_measured   current_load   voltage_load  \\\n",
              "count     185721.000000         185721.000000  185721.000000  185721.000000   \n",
              "mean          -1.832569             32.378997       1.465434       2.366494   \n",
              "std            0.561405              4.027737       1.226874       0.751377   \n",
              "min           -2.029098             22.350256      -2.000000       0.000000   \n",
              "25%           -2.011418             29.570621       1.998200       2.410000   \n",
              "50%           -2.009015             32.355737       1.998800       2.558000   \n",
              "75%           -1.989974             35.420677       1.999000       2.718000   \n",
              "max            0.014306             42.332522       2.000000       4.249000   \n",
              "\n",
              "                time        battery  \n",
              "count  185721.000000  185721.000000  \n",
              "mean     1546.379935       8.252799  \n",
              "std       906.958628       4.743428  \n",
              "min         0.000000       5.000000  \n",
              "25%       764.797000       5.000000  \n",
              "50%      1537.031000       6.000000  \n",
              "75%      2307.485000       7.000000  \n",
              "max      3690.234000      18.000000  "
            ],
            "text/html": [
              "\n",
              "  <div id=\"df-22fe02b1-dee2-45cf-a39c-c604fa2bfe23\">\n",
              "    <div class=\"colab-df-container\">\n",
              "      <div>\n",
              "<style scoped>\n",
              "    .dataframe tbody tr th:only-of-type {\n",
              "        vertical-align: middle;\n",
              "    }\n",
              "\n",
              "    .dataframe tbody tr th {\n",
              "        vertical-align: top;\n",
              "    }\n",
              "\n",
              "    .dataframe thead th {\n",
              "        text-align: right;\n",
              "    }\n",
              "</style>\n",
              "<table border=\"1\" class=\"dataframe\">\n",
              "  <thead>\n",
              "    <tr style=\"text-align: right;\">\n",
              "      <th></th>\n",
              "      <th>cycle</th>\n",
              "      <th>ambient_temperature</th>\n",
              "      <th>capacity</th>\n",
              "      <th>voltage_measured</th>\n",
              "      <th>current_measured</th>\n",
              "      <th>temperature_measured</th>\n",
              "      <th>current_load</th>\n",
              "      <th>voltage_load</th>\n",
              "      <th>time</th>\n",
              "      <th>battery</th>\n",
              "    </tr>\n",
              "  </thead>\n",
              "  <tbody>\n",
              "    <tr>\n",
              "      <th>count</th>\n",
              "      <td>185721.000000</td>\n",
              "      <td>185721.0</td>\n",
              "      <td>185721.000000</td>\n",
              "      <td>185721.000000</td>\n",
              "      <td>185721.000000</td>\n",
              "      <td>185721.000000</td>\n",
              "      <td>185721.000000</td>\n",
              "      <td>185721.000000</td>\n",
              "      <td>185721.000000</td>\n",
              "      <td>185721.000000</td>\n",
              "    </tr>\n",
              "    <tr>\n",
              "      <th>mean</th>\n",
              "      <td>82.838758</td>\n",
              "      <td>24.0</td>\n",
              "      <td>1.574863</td>\n",
              "      <td>3.497219</td>\n",
              "      <td>-1.832569</td>\n",
              "      <td>32.378997</td>\n",
              "      <td>1.465434</td>\n",
              "      <td>2.366494</td>\n",
              "      <td>1546.379935</td>\n",
              "      <td>8.252799</td>\n",
              "    </tr>\n",
              "    <tr>\n",
              "      <th>std</th>\n",
              "      <td>45.692247</td>\n",
              "      <td>0.0</td>\n",
              "      <td>0.190633</td>\n",
              "      <td>0.251691</td>\n",
              "      <td>0.561405</td>\n",
              "      <td>4.027737</td>\n",
              "      <td>1.226874</td>\n",
              "      <td>0.751377</td>\n",
              "      <td>906.958628</td>\n",
              "      <td>4.743428</td>\n",
              "    </tr>\n",
              "    <tr>\n",
              "      <th>min</th>\n",
              "      <td>1.000000</td>\n",
              "      <td>24.0</td>\n",
              "      <td>1.153818</td>\n",
              "      <td>1.737030</td>\n",
              "      <td>-2.029098</td>\n",
              "      <td>22.350256</td>\n",
              "      <td>-2.000000</td>\n",
              "      <td>0.000000</td>\n",
              "      <td>0.000000</td>\n",
              "      <td>5.000000</td>\n",
              "    </tr>\n",
              "    <tr>\n",
              "      <th>25%</th>\n",
              "      <td>45.000000</td>\n",
              "      <td>24.0</td>\n",
              "      <td>1.426025</td>\n",
              "      <td>3.377653</td>\n",
              "      <td>-2.011418</td>\n",
              "      <td>29.570621</td>\n",
              "      <td>1.998200</td>\n",
              "      <td>2.410000</td>\n",
              "      <td>764.797000</td>\n",
              "      <td>5.000000</td>\n",
              "    </tr>\n",
              "    <tr>\n",
              "      <th>50%</th>\n",
              "      <td>81.000000</td>\n",
              "      <td>24.0</td>\n",
              "      <td>1.559634</td>\n",
              "      <td>3.500859</td>\n",
              "      <td>-2.009015</td>\n",
              "      <td>32.355737</td>\n",
              "      <td>1.998800</td>\n",
              "      <td>2.558000</td>\n",
              "      <td>1537.031000</td>\n",
              "      <td>6.000000</td>\n",
              "    </tr>\n",
              "    <tr>\n",
              "      <th>75%</th>\n",
              "      <td>120.000000</td>\n",
              "      <td>24.0</td>\n",
              "      <td>1.741850</td>\n",
              "      <td>3.655751</td>\n",
              "      <td>-1.989974</td>\n",
              "      <td>35.420677</td>\n",
              "      <td>1.999000</td>\n",
              "      <td>2.718000</td>\n",
              "      <td>2307.485000</td>\n",
              "      <td>7.000000</td>\n",
              "    </tr>\n",
              "    <tr>\n",
              "      <th>max</th>\n",
              "      <td>168.000000</td>\n",
              "      <td>24.0</td>\n",
              "      <td>2.035338</td>\n",
              "      <td>4.233325</td>\n",
              "      <td>0.014306</td>\n",
              "      <td>42.332522</td>\n",
              "      <td>2.000000</td>\n",
              "      <td>4.249000</td>\n",
              "      <td>3690.234000</td>\n",
              "      <td>18.000000</td>\n",
              "    </tr>\n",
              "  </tbody>\n",
              "</table>\n",
              "</div>\n",
              "      <button class=\"colab-df-convert\" onclick=\"convertToInteractive('df-22fe02b1-dee2-45cf-a39c-c604fa2bfe23')\"\n",
              "              title=\"Convert this dataframe to an interactive table.\"\n",
              "              style=\"display:none;\">\n",
              "        \n",
              "  <svg xmlns=\"http://www.w3.org/2000/svg\" height=\"24px\"viewBox=\"0 0 24 24\"\n",
              "       width=\"24px\">\n",
              "    <path d=\"M0 0h24v24H0V0z\" fill=\"none\"/>\n",
              "    <path d=\"M18.56 5.44l.94 2.06.94-2.06 2.06-.94-2.06-.94-.94-2.06-.94 2.06-2.06.94zm-11 1L8.5 8.5l.94-2.06 2.06-.94-2.06-.94L8.5 2.5l-.94 2.06-2.06.94zm10 10l.94 2.06.94-2.06 2.06-.94-2.06-.94-.94-2.06-.94 2.06-2.06.94z\"/><path d=\"M17.41 7.96l-1.37-1.37c-.4-.4-.92-.59-1.43-.59-.52 0-1.04.2-1.43.59L10.3 9.45l-7.72 7.72c-.78.78-.78 2.05 0 2.83L4 21.41c.39.39.9.59 1.41.59.51 0 1.02-.2 1.41-.59l7.78-7.78 2.81-2.81c.8-.78.8-2.07 0-2.86zM5.41 20L4 18.59l7.72-7.72 1.47 1.35L5.41 20z\"/>\n",
              "  </svg>\n",
              "      </button>\n",
              "      \n",
              "  <style>\n",
              "    .colab-df-container {\n",
              "      display:flex;\n",
              "      flex-wrap:wrap;\n",
              "      gap: 12px;\n",
              "    }\n",
              "\n",
              "    .colab-df-convert {\n",
              "      background-color: #E8F0FE;\n",
              "      border: none;\n",
              "      border-radius: 50%;\n",
              "      cursor: pointer;\n",
              "      display: none;\n",
              "      fill: #1967D2;\n",
              "      height: 32px;\n",
              "      padding: 0 0 0 0;\n",
              "      width: 32px;\n",
              "    }\n",
              "\n",
              "    .colab-df-convert:hover {\n",
              "      background-color: #E2EBFA;\n",
              "      box-shadow: 0px 1px 2px rgba(60, 64, 67, 0.3), 0px 1px 3px 1px rgba(60, 64, 67, 0.15);\n",
              "      fill: #174EA6;\n",
              "    }\n",
              "\n",
              "    [theme=dark] .colab-df-convert {\n",
              "      background-color: #3B4455;\n",
              "      fill: #D2E3FC;\n",
              "    }\n",
              "\n",
              "    [theme=dark] .colab-df-convert:hover {\n",
              "      background-color: #434B5C;\n",
              "      box-shadow: 0px 1px 3px 1px rgba(0, 0, 0, 0.15);\n",
              "      filter: drop-shadow(0px 1px 2px rgba(0, 0, 0, 0.3));\n",
              "      fill: #FFFFFF;\n",
              "    }\n",
              "  </style>\n",
              "\n",
              "      <script>\n",
              "        const buttonEl =\n",
              "          document.querySelector('#df-22fe02b1-dee2-45cf-a39c-c604fa2bfe23 button.colab-df-convert');\n",
              "        buttonEl.style.display =\n",
              "          google.colab.kernel.accessAllowed ? 'block' : 'none';\n",
              "\n",
              "        async function convertToInteractive(key) {\n",
              "          const element = document.querySelector('#df-22fe02b1-dee2-45cf-a39c-c604fa2bfe23');\n",
              "          const dataTable =\n",
              "            await google.colab.kernel.invokeFunction('convertToInteractive',\n",
              "                                                     [key], {});\n",
              "          if (!dataTable) return;\n",
              "\n",
              "          const docLinkHtml = 'Like what you see? Visit the ' +\n",
              "            '<a target=\"_blank\" href=https://colab.research.google.com/notebooks/data_table.ipynb>data table notebook</a>'\n",
              "            + ' to learn more about interactive tables.';\n",
              "          element.innerHTML = '';\n",
              "          dataTable['output_type'] = 'display_data';\n",
              "          await google.colab.output.renderOutput(dataTable, element);\n",
              "          const docLink = document.createElement('div');\n",
              "          docLink.innerHTML = docLinkHtml;\n",
              "          element.appendChild(docLink);\n",
              "        }\n",
              "      </script>\n",
              "    </div>\n",
              "  </div>\n",
              "  "
            ]
          },
          "metadata": {},
          "execution_count": 19
        }
      ]
    },
    {
      "cell_type": "code",
      "source": [
        "for feature in ['cycle', 'ambient_temperature', 'capacity', 'voltage_measured', 'current_measured', \n",
        "                    'temperature_measured', 'current_load', 'voltage_load']:\n",
        "    # Creating an empty chart\n",
        "    fig, ((ax1, ax2)) = plt.subplots(1, 2,  figsize=(15, 4))\n",
        "\n",
        "    # Extracting the feature values\n",
        "    x = data[feature].values\n",
        "\n",
        "    # Boxplot\n",
        "    ax1.boxplot(x)\n",
        "    ax1.set_title( 'Boxplot for {}'.format(feature) )\n",
        "\n",
        "    # Histogram\n",
        "    ax2.hist(x, bins=20)\n",
        "    ax2.set_title( 'Histogram for {}'.format(feature) )\n",
        "\n",
        "    # Display\n",
        "    plt.show()"
      ],
      "metadata": {
        "colab": {
          "base_uri": "https://localhost:8080/",
          "height": 1000
        },
        "id": "SEDOJ-4_FLrl",
        "outputId": "62b1c8ea-1a7e-4100-b432-f7f7898e9f69"
      },
      "execution_count": null,
      "outputs": [
        {
          "output_type": "display_data",
          "data": {
            "text/plain": [
              "<Figure size 1080x288 with 2 Axes>"
            ],
            "image/png": "[encoded data removed]"
          },
          "metadata": {
            "needs_background": "light"
          }
        },
        {
          "output_type": "display_data",
          "data": {
            "text/plain": [
              "<Figure size 1080x288 with 2 Axes>"
            ],
            "image/png": "[encoded data removed]"
          },
          "metadata": {
            "needs_background": "light"
          }
        },
        {
          "output_type": "display_data",
          "data": {
            "text/plain": [
              "<Figure size 1080x288 with 2 Axes>"
            ],
            "image/png": "[encoded data removed]"
          },
          "metadata": {
            "needs_background": "light"
          }
        },
        {
          "output_type": "display_data",
          "data": {
            "text/plain": [
              "<Figure size 1080x288 with 2 Axes>"
            ],
            "image/png": "[encoded data removed]"
          },
          "metadata": {
            "needs_background": "light"
          }
        },
        {
          "output_type": "display_data",
          "data": {
            "text/plain": [
              "<Figure size 1080x288 with 2 Axes>"
            ],
            "image/png": "[encoded data removed]"
          },
          "metadata": {
            "needs_background": "light"
          }
        },
        {
          "output_type": "display_data",
          "data": {
            "text/plain": [
              "<Figure size 1080x288 with 2 Axes>"
            ],
            "image/png": "[encoded data removed]"
          },
          "metadata": {
            "needs_background": "light"
          }
        },
        {
          "output_type": "display_data",
          "data": {
            "text/plain": [
              "<Figure size 1080x288 with 2 Axes>"
            ],
            "image/png": "[encoded data removed]"
          },
          "metadata": {
            "needs_background": "light"
          }
        },
        {
          "output_type": "display_data",
          "data": {
            "text/plain": [
              "<Figure size 1080x288 with 2 Axes>"
            ],
            "image/png": "[encoded data removed]"
          },
          "metadata": {
            "needs_background": "light"
          }
        }
      ]
    },
    {
      "cell_type": "code",
      "source": [
        "# Dado que la variable temperatura ambiente es constante, se elimina de los archivos\n",
        "data.pop('ambient_temperature')\n",
        "data.head()"
      ],
      "metadata": {
        "colab": {
          "base_uri": "https://localhost:8080/",
          "height": 206
        },
        "id": "_91Ozfa1kzbG",
        "outputId": "7e0e6910-da34-4264-af82-3d9aead7a4ea"
      },
      "execution_count": null,
      "outputs": [
        {
          "output_type": "execute_result",
          "data": {
            "text/plain": [
              "   cycle             datetime  capacity  voltage_measured  current_measured  \\\n",
              "0      1  2008-04-02 15:25:41  1.856487          4.191492         -0.004902   \n",
              "1      1  2008-04-02 15:25:41  1.856487          4.190749         -0.001478   \n",
              "2      1  2008-04-02 15:25:41  1.856487          3.974871         -2.012528   \n",
              "3      1  2008-04-02 15:25:41  1.856487          3.951717         -2.013979   \n",
              "4      1  2008-04-02 15:25:41  1.856487          3.934352         -2.011144   \n",
              "\n",
              "   temperature_measured  current_load  voltage_load    time  battery  \n",
              "0             24.330034       -0.0006         0.000   0.000        5  \n",
              "1             24.325993       -0.0006         4.206  16.781        5  \n",
              "2             24.389085       -1.9982         3.062  35.703        5  \n",
              "3             24.544752       -1.9982         3.030  53.781        5  \n",
              "4             24.731385       -1.9982         3.011  71.922        5  "
            ],
            "text/html": [
              "\n",
              "  <div id=\"df-e2a9cd1f-84ea-4b53-be5a-ccd9d951b97c\">\n",
              "    <div class=\"colab-df-container\">\n",
              "      <div>\n",
              "<style scoped>\n",
              "    .dataframe tbody tr th:only-of-type {\n",
              "        vertical-align: middle;\n",
              "    }\n",
              "\n",
              "    .dataframe tbody tr th {\n",
              "        vertical-align: top;\n",
              "    }\n",
              "\n",
              "    .dataframe thead th {\n",
              "        text-align: right;\n",
              "    }\n",
              "</style>\n",
              "<table border=\"1\" class=\"dataframe\">\n",
              "  <thead>\n",
              "    <tr style=\"text-align: right;\">\n",
              "      <th></th>\n",
              "      <th>cycle</th>\n",
              "      <th>datetime</th>\n",
              "      <th>capacity</th>\n",
              "      <th>voltage_measured</th>\n",
              "      <th>current_measured</th>\n",
              "      <th>temperature_measured</th>\n",
              "      <th>current_load</th>\n",
              "      <th>voltage_load</th>\n",
              "      <th>time</th>\n",
              "      <th>battery</th>\n",
              "    </tr>\n",
              "  </thead>\n",
              "  <tbody>\n",
              "    <tr>\n",
              "      <th>0</th>\n",
              "      <td>1</td>\n",
              "      <td>2008-04-02 15:25:41</td>\n",
              "      <td>1.856487</td>\n",
              "      <td>4.191492</td>\n",
              "      <td>-0.004902</td>\n",
              "      <td>24.330034</td>\n",
              "      <td>-0.0006</td>\n",
              "      <td>0.000</td>\n",
              "      <td>0.000</td>\n",
              "      <td>5</td>\n",
              "    </tr>\n",
              "    <tr>\n",
              "      <th>1</th>\n",
              "      <td>1</td>\n",
              "      <td>2008-04-02 15:25:41</td>\n",
              "      <td>1.856487</td>\n",
              "      <td>4.190749</td>\n",
              "      <td>-0.001478</td>\n",
              "      <td>24.325993</td>\n",
              "      <td>-0.0006</td>\n",
              "      <td>4.206</td>\n",
              "      <td>16.781</td>\n",
              "      <td>5</td>\n",
              "    </tr>\n",
              "    <tr>\n",
              "      <th>2</th>\n",
              "      <td>1</td>\n",
              "      <td>2008-04-02 15:25:41</td>\n",
              "      <td>1.856487</td>\n",
              "      <td>3.974871</td>\n",
              "      <td>-2.012528</td>\n",
              "      <td>24.389085</td>\n",
              "      <td>-1.9982</td>\n",
              "      <td>3.062</td>\n",
              "      <td>35.703</td>\n",
              "      <td>5</td>\n",
              "    </tr>\n",
              "    <tr>\n",
              "      <th>3</th>\n",
              "      <td>1</td>\n",
              "      <td>2008-04-02 15:25:41</td>\n",
              "      <td>1.856487</td>\n",
              "      <td>3.951717</td>\n",
              "      <td>-2.013979</td>\n",
              "      <td>24.544752</td>\n",
              "      <td>-1.9982</td>\n",
              "      <td>3.030</td>\n",
              "      <td>53.781</td>\n",
              "      <td>5</td>\n",
              "    </tr>\n",
              "    <tr>\n",
              "      <th>4</th>\n",
              "      <td>1</td>\n",
              "      <td>2008-04-02 15:25:41</td>\n",
              "      <td>1.856487</td>\n",
              "      <td>3.934352</td>\n",
              "      <td>-2.011144</td>\n",
              "      <td>24.731385</td>\n",
              "      <td>-1.9982</td>\n",
              "      <td>3.011</td>\n",
              "      <td>71.922</td>\n",
              "      <td>5</td>\n",
              "    </tr>\n",
              "  </tbody>\n",
              "</table>\n",
              "</div>\n",
              "      <button class=\"colab-df-convert\" onclick=\"convertToInteractive('df-e2a9cd1f-84ea-4b53-be5a-ccd9d951b97c')\"\n",
              "              title=\"Convert this dataframe to an interactive table.\"\n",
              "              style=\"display:none;\">\n",
              "        \n",
              "  <svg xmlns=\"http://www.w3.org/2000/svg\" height=\"24px\"viewBox=\"0 0 24 24\"\n",
              "       width=\"24px\">\n",
              "    <path d=\"M0 0h24v24H0V0z\" fill=\"none\"/>\n",
              "    <path d=\"M18.56 5.44l.94 2.06.94-2.06 2.06-.94-2.06-.94-.94-2.06-.94 2.06-2.06.94zm-11 1L8.5 8.5l.94-2.06 2.06-.94-2.06-.94L8.5 2.5l-.94 2.06-2.06.94zm10 10l.94 2.06.94-2.06 2.06-.94-2.06-.94-.94-2.06-.94 2.06-2.06.94z\"/><path d=\"M17.41 7.96l-1.37-1.37c-.4-.4-.92-.59-1.43-.59-.52 0-1.04.2-1.43.59L10.3 9.45l-7.72 7.72c-.78.78-.78 2.05 0 2.83L4 21.41c.39.39.9.59 1.41.59.51 0 1.02-.2 1.41-.59l7.78-7.78 2.81-2.81c.8-.78.8-2.07 0-2.86zM5.41 20L4 18.59l7.72-7.72 1.47 1.35L5.41 20z\"/>\n",
              "  </svg>\n",
              "      </button>\n",
              "      \n",
              "  <style>\n",
              "    .colab-df-container {\n",
              "      display:flex;\n",
              "      flex-wrap:wrap;\n",
              "      gap: 12px;\n",
              "    }\n",
              "\n",
              "    .colab-df-convert {\n",
              "      background-color: #E8F0FE;\n",
              "      border: none;\n",
              "      border-radius: 50%;\n",
              "      cursor: pointer;\n",
              "      display: none;\n",
              "      fill: #1967D2;\n",
              "      height: 32px;\n",
              "      padding: 0 0 0 0;\n",
              "      width: 32px;\n",
              "    }\n",
              "\n",
              "    .colab-df-convert:hover {\n",
              "      background-color: #E2EBFA;\n",
              "      box-shadow: 0px 1px 2px rgba(60, 64, 67, 0.3), 0px 1px 3px 1px rgba(60, 64, 67, 0.15);\n",
              "      fill: #174EA6;\n",
              "    }\n",
              "\n",
              "    [theme=dark] .colab-df-convert {\n",
              "      background-color: #3B4455;\n",
              "      fill: #D2E3FC;\n",
              "    }\n",
              "\n",
              "    [theme=dark] .colab-df-convert:hover {\n",
              "      background-color: #434B5C;\n",
              "      box-shadow: 0px 1px 3px 1px rgba(0, 0, 0, 0.15);\n",
              "      filter: drop-shadow(0px 1px 2px rgba(0, 0, 0, 0.3));\n",
              "      fill: #FFFFFF;\n",
              "    }\n",
              "  </style>\n",
              "\n",
              "      <script>\n",
              "        const buttonEl =\n",
              "          document.querySelector('#df-e2a9cd1f-84ea-4b53-be5a-ccd9d951b97c button.colab-df-convert');\n",
              "        buttonEl.style.display =\n",
              "          google.colab.kernel.accessAllowed ? 'block' : 'none';\n",
              "\n",
              "        async function convertToInteractive(key) {\n",
              "          const element = document.querySelector('#df-e2a9cd1f-84ea-4b53-be5a-ccd9d951b97c');\n",
              "          const dataTable =\n",
              "            await google.colab.kernel.invokeFunction('convertToInteractive',\n",
              "                                                     [key], {});\n",
              "          if (!dataTable) return;\n",
              "\n",
              "          const docLinkHtml = 'Like what you see? Visit the ' +\n",
              "            '<a target=\"_blank\" href=https://colab.research.google.com/notebooks/data_table.ipynb>data table notebook</a>'\n",
              "            + ' to learn more about interactive tables.';\n",
              "          element.innerHTML = '';\n",
              "          dataTable['output_type'] = 'display_data';\n",
              "          await google.colab.output.renderOutput(dataTable, element);\n",
              "          const docLink = document.createElement('div');\n",
              "          docLink.innerHTML = docLinkHtml;\n",
              "          element.appendChild(docLink);\n",
              "        }\n",
              "      </script>\n",
              "    </div>\n",
              "  </div>\n",
              "  "
            ]
          },
          "metadata": {},
          "execution_count": 21
        }
      ]
    },
    {
      "cell_type": "code",
      "source": [
        "# Se valida el número de ciclos por batería\n",
        "data.groupby('battery')['cycle'].max()"
      ],
      "metadata": {
        "colab": {
          "base_uri": "https://localhost:8080/"
        },
        "id": "gfCDn7BehvpG",
        "outputId": "87e41c25-1508-4e68-87bf-e1783d2676e3"
      },
      "execution_count": null,
      "outputs": [
        {
          "output_type": "execute_result",
          "data": {
            "text/plain": [
              "battery\n",
              "5     168\n",
              "6     168\n",
              "7     168\n",
              "18    132\n",
              "Name: cycle, dtype: int64"
            ]
          },
          "metadata": {},
          "execution_count": 22
        }
      ]
    },
    {
      "cell_type": "code",
      "source": [
        "# Matriz de correlaciones\n",
        "corr_data = data.corr()\n",
        "print(corr_data, \"\\n\")"
      ],
      "metadata": {
        "colab": {
          "base_uri": "https://localhost:8080/"
        },
        "id": "btQp-KqKix7K",
        "outputId": "19915235-0ac0-4a41-aca4-3bd6c2ebd592"
      },
      "execution_count": null,
      "outputs": [
        {
          "output_type": "stream",
          "name": "stdout",
          "text": [
            "                         cycle  capacity  voltage_measured  current_measured  \\\n",
            "cycle                 1.000000 -0.924433         -0.142041          0.132452   \n",
            "capacity             -0.924433  1.000000          0.165433         -0.163532   \n",
            "voltage_measured     -0.142041  0.165433          1.000000         -0.083980   \n",
            "current_measured      0.132452 -0.163532         -0.083980          1.000000   \n",
            "temperature_measured  0.152562 -0.137249         -0.885815          0.318778   \n",
            "current_load          0.369781 -0.387503         -0.037141         -0.366280   \n",
            "voltage_load         -0.185969  0.221651          0.416026         -0.896695   \n",
            "time                 -0.115680  0.115478         -0.796901          0.358933   \n",
            "battery              -0.237778  0.045500          0.007748         -0.019430   \n",
            "\n",
            "                      temperature_measured  current_load  voltage_load  \\\n",
            "cycle                             0.152562      0.369781     -0.185969   \n",
            "capacity                         -0.137249     -0.387503      0.221651   \n",
            "voltage_measured                 -0.885815     -0.037141      0.416026   \n",
            "current_measured                  0.318778     -0.366280     -0.896695   \n",
            "temperature_measured              1.000000     -0.111561     -0.598852   \n",
            "current_load                     -0.111561      1.000000      0.301337   \n",
            "voltage_load                     -0.598852      0.301337      1.000000   \n",
            "time                              0.907484     -0.212621     -0.602228   \n",
            "battery                          -0.159070      0.147715      0.040992   \n",
            "\n",
            "                          time   battery  \n",
            "cycle                -0.115680 -0.237778  \n",
            "capacity              0.115478  0.045500  \n",
            "voltage_measured     -0.796901  0.007748  \n",
            "current_measured      0.358933 -0.019430  \n",
            "temperature_measured  0.907484 -0.159070  \n",
            "current_load         -0.212621  0.147715  \n",
            "voltage_load         -0.602228  0.040992  \n",
            "time                  1.000000  0.000387  \n",
            "battery               0.000387  1.000000   \n",
            "\n"
          ]
        }
      ]
    },
    {
      "cell_type": "code",
      "source": [
        "plt.figure(figsize=(8, 6))\n",
        "sns.heatmap(corr_data, annot=True) # , cmap='YlGnBu'\n",
        "plt.show()"
      ],
      "metadata": {
        "colab": {
          "base_uri": "https://localhost:8080/",
          "height": 485
        },
        "id": "OFEXbs6Vix4i",
        "outputId": "92dec3b8-6eec-4521-ebf9-f6b2f32b5719"
      },
      "execution_count": null,
      "outputs": [
        {
          "output_type": "display_data",
          "data": {
            "text/plain": [
              "<Figure size 576x432 with 2 Axes>"
            ],
            "image/png": "[encoded data removed]"
          },
          "metadata": {
            "needs_background": "light"
          }
        }
      ]
    },
    {
      "cell_type": "code",
      "source": [
        "plot_d5 = data['battery'] == 5\n",
        "plot_d5 = data[plot_d5]\n",
        "plot_d6 = data['battery'] == 6\n",
        "plot_d6 = data[plot_d6]\n",
        "plot_d7 = data['battery'] == 7\n",
        "plot_d7 = data[plot_d7]\n",
        "plot_d18 = data['battery'] == 18\n",
        "plot_d18 = data[plot_d18]"
      ],
      "metadata": {
        "id": "WKpSKU8Nroiz"
      },
      "execution_count": null,
      "outputs": []
    },
    {
      "cell_type": "code",
      "source": [
        "plt.figure(figsize=(8, 6))\n",
        "sns.lineplot(x='cycle', y='capacity', data=plot_d5)\n",
        "sns.lineplot(x='cycle', y='capacity', data=plot_d6)\n",
        "sns.lineplot(x='cycle', y='capacity', data=plot_d7)\n",
        "sns.lineplot(x='cycle', y='capacity', data=plot_d18)"
      ],
      "metadata": {
        "colab": {
          "base_uri": "https://localhost:8080/",
          "height": 425
        },
        "id": "Ueqj74Y3qN3q",
        "outputId": "f7aa1678-7bdc-48c4-c720-df7e1d523770"
      },
      "execution_count": null,
      "outputs": [
        {
          "output_type": "stream",
          "name": "stderr",
          "text": [
            "No handles with labels found to put in legend.\n"
          ]
        },
        {
          "output_type": "execute_result",
          "data": {
            "text/plain": [
              "<matplotlib.legend.Legend at 0x7f62ee0dfbd0>"
            ]
          },
          "metadata": {},
          "execution_count": 96
        },
        {
          "output_type": "display_data",
          "data": {
            "text/plain": [
              "<Figure size 576x432 with 1 Axes>"
            ],
            "image/png": "[encoded data removed]"
          },
          "metadata": {
            "needs_background": "light"
          }
        }
      ]
    },
    {
      "cell_type": "code",
      "source": [
        "data.groupby('battery')\n",
        "data\n"
      ],
      "metadata": {
        "id": "jHQO1bQShvmU"
      },
      "execution_count": null,
      "outputs": []
    },
    {
      "cell_type": "code",
      "source": [
        ""
      ],
      "metadata": {
        "id": "8eNiXPPqpGqP"
      },
      "execution_count": null,
      "outputs": []
    },
    {
      "cell_type": "code",
      "source": [
        ""
      ],
      "metadata": {
        "id": "7DWug0MopGnK"
      },
      "execution_count": null,
      "outputs": []
    },
    {
      "cell_type": "code",
      "source": [
        ""
      ],
      "metadata": {
        "id": "ut6vXBEhhvjl"
      },
      "execution_count": null,
      "outputs": []
    },
    {
      "cell_type": "markdown",
      "source": [
        "## Exploración de los datos"
      ],
      "metadata": {
        "id": "tExZB3xvdX3v"
      }
    },
    {
      "cell_type": "code",
      "source": [
        ""
      ],
      "metadata": {
        "id": "Rte1uyEUdYQ4"
      },
      "execution_count": null,
      "outputs": []
    },
    {
      "cell_type": "code",
      "source": [
        ""
      ],
      "metadata": {
        "id": "FpwHaIBYdYo5"
      },
      "execution_count": null,
      "outputs": []
    },
    {
      "cell_type": "markdown",
      "source": [
        "## Cálculo del estado de salud - SOH\n",
        "\n",
        "Teniendo en cuenta que el SOH de una batería se puede calcular a partir de la capacidad de la misma, se define el SOH como:\n",
        "\n"
      ],
      "metadata": {
        "id": "ulcGHAyWpTLU"
      }
    },
    {
      "cell_type": "code",
      "source": [
        "# Se calcula el SOH y se asigna el número de la batería para\n",
        "bat_5['SOH'] = bat_5['capacity']/bat_5['capacity'][0]\n",
        "bat_5 = bat_5.assign(bateria=5)\n",
        "bat_6['SOH'] = bat_6['capacity']/bat_5['capacity'][0]\n",
        "bat_6 = bat_6.assign(bateria=6)\n",
        "bat_7['SOH'] = bat_7['capacity']/bat_5['capacity'][0]\n",
        "bat_7 = bat_7.assign(bateria=7)\n",
        "bat_18['SOH'] = bat_18['capacity']/bat_5['capacity'][0]\n",
        "bat_18 = bat_18.assign(bateria=18)"
      ],
      "metadata": {
        "id": "i72WqxfCl8St"
      },
      "execution_count": null,
      "outputs": []
    },
    {
      "cell_type": "code",
      "source": [
        "data = pd.concat([bat_5, bat_6, bat_7, bat_18])"
      ],
      "metadata": {
        "id": "GpvsjgNCrBQ8"
      },
      "execution_count": null,
      "outputs": []
    },
    {
      "cell_type": "code",
      "source": [
        "data.describe()"
      ],
      "metadata": {
        "colab": {
          "base_uri": "https://localhost:8080/",
          "height": 364
        },
        "id": "AOIcVeIgsBcU",
        "outputId": "6ada83bb-62e9-49e7-9b33-9c9b5379a067"
      },
      "execution_count": null,
      "outputs": [
        {
          "output_type": "execute_result",
          "data": {
            "text/plain": [
              "               cycle  ambient_temperature       capacity  voltage_measured  \\\n",
              "count  185721.000000             185721.0  185721.000000     185721.000000   \n",
              "mean       82.838758                 24.0       1.574863          3.497219   \n",
              "std        45.692247                  0.0       0.190633          0.251691   \n",
              "min         1.000000                 24.0       1.153818          1.737030   \n",
              "25%        45.000000                 24.0       1.426025          3.377653   \n",
              "50%        81.000000                 24.0       1.559634          3.500859   \n",
              "75%       120.000000                 24.0       1.741850          3.655751   \n",
              "max       168.000000                 24.0       2.035338          4.233325   \n",
              "\n",
              "       current_measured  temperature_measured   current_load   voltage_load  \\\n",
              "count     185721.000000         185721.000000  185721.000000  185721.000000   \n",
              "mean          -1.832569             32.378997       1.465434       2.366494   \n",
              "std            0.561405              4.027737       1.226874       0.751377   \n",
              "min           -2.029098             22.350256      -2.000000       0.000000   \n",
              "25%           -2.011418             29.570621       1.998200       2.410000   \n",
              "50%           -2.009015             32.355737       1.998800       2.558000   \n",
              "75%           -1.989974             35.420677       1.999000       2.718000   \n",
              "max            0.014306             42.332522       2.000000       4.249000   \n",
              "\n",
              "                time            SOH        bateria  \n",
              "count  185721.000000  185721.000000  185721.000000  \n",
              "mean     1546.379935       0.848303       8.252799  \n",
              "std       906.958628       0.102685       4.743428  \n",
              "min         0.000000       0.621506       5.000000  \n",
              "25%       764.797000       0.768131       5.000000  \n",
              "50%      1537.031000       0.840099       6.000000  \n",
              "75%      2307.485000       0.938250       7.000000  \n",
              "max      3690.234000       1.096338      18.000000  "
            ],
            "text/html": [
              "\n",
              "  <div id=\"df-814b2ef5-f544-4c73-8efe-e116916162e8\">\n",
              "    <div class=\"colab-df-container\">\n",
              "      <div>\n",
              "<style scoped>\n",
              "    .dataframe tbody tr th:only-of-type {\n",
              "        vertical-align: middle;\n",
              "    }\n",
              "\n",
              "    .dataframe tbody tr th {\n",
              "        vertical-align: top;\n",
              "    }\n",
              "\n",
              "    .dataframe thead th {\n",
              "        text-align: right;\n",
              "    }\n",
              "</style>\n",
              "<table border=\"1\" class=\"dataframe\">\n",
              "  <thead>\n",
              "    <tr style=\"text-align: right;\">\n",
              "      <th></th>\n",
              "      <th>cycle</th>\n",
              "      <th>ambient_temperature</th>\n",
              "      <th>capacity</th>\n",
              "      <th>voltage_measured</th>\n",
              "      <th>current_measured</th>\n",
              "      <th>temperature_measured</th>\n",
              "      <th>current_load</th>\n",
              "      <th>voltage_load</th>\n",
              "      <th>time</th>\n",
              "      <th>SOH</th>\n",
              "      <th>bateria</th>\n",
              "    </tr>\n",
              "  </thead>\n",
              "  <tbody>\n",
              "    <tr>\n",
              "      <th>count</th>\n",
              "      <td>185721.000000</td>\n",
              "      <td>185721.0</td>\n",
              "      <td>185721.000000</td>\n",
              "      <td>185721.000000</td>\n",
              "      <td>185721.000000</td>\n",
              "      <td>185721.000000</td>\n",
              "      <td>185721.000000</td>\n",
              "      <td>185721.000000</td>\n",
              "      <td>185721.000000</td>\n",
              "      <td>185721.000000</td>\n",
              "      <td>185721.000000</td>\n",
              "    </tr>\n",
              "    <tr>\n",
              "      <th>mean</th>\n",
              "      <td>82.838758</td>\n",
              "      <td>24.0</td>\n",
              "      <td>1.574863</td>\n",
              "      <td>3.497219</td>\n",
              "      <td>-1.832569</td>\n",
              "      <td>32.378997</td>\n",
              "      <td>1.465434</td>\n",
              "      <td>2.366494</td>\n",
              "      <td>1546.379935</td>\n",
              "      <td>0.848303</td>\n",
              "      <td>8.252799</td>\n",
              "    </tr>\n",
              "    <tr>\n",
              "      <th>std</th>\n",
              "      <td>45.692247</td>\n",
              "      <td>0.0</td>\n",
              "      <td>0.190633</td>\n",
              "      <td>0.251691</td>\n",
              "      <td>0.561405</td>\n",
              "      <td>4.027737</td>\n",
              "      <td>1.226874</td>\n",
              "      <td>0.751377</td>\n",
              "      <td>906.958628</td>\n",
              "      <td>0.102685</td>\n",
              "      <td>4.743428</td>\n",
              "    </tr>\n",
              "    <tr>\n",
              "      <th>min</th>\n",
              "      <td>1.000000</td>\n",
              "      <td>24.0</td>\n",
              "      <td>1.153818</td>\n",
              "      <td>1.737030</td>\n",
              "      <td>-2.029098</td>\n",
              "      <td>22.350256</td>\n",
              "      <td>-2.000000</td>\n",
              "      <td>0.000000</td>\n",
              "      <td>0.000000</td>\n",
              "      <td>0.621506</td>\n",
              "      <td>5.000000</td>\n",
              "    </tr>\n",
              "    <tr>\n",
              "      <th>25%</th>\n",
              "      <td>45.000000</td>\n",
              "      <td>24.0</td>\n",
              "      <td>1.426025</td>\n",
              "      <td>3.377653</td>\n",
              "      <td>-2.011418</td>\n",
              "      <td>29.570621</td>\n",
              "      <td>1.998200</td>\n",
              "      <td>2.410000</td>\n",
              "      <td>764.797000</td>\n",
              "      <td>0.768131</td>\n",
              "      <td>5.000000</td>\n",
              "    </tr>\n",
              "    <tr>\n",
              "      <th>50%</th>\n",
              "      <td>81.000000</td>\n",
              "      <td>24.0</td>\n",
              "      <td>1.559634</td>\n",
              "      <td>3.500859</td>\n",
              "      <td>-2.009015</td>\n",
              "      <td>32.355737</td>\n",
              "      <td>1.998800</td>\n",
              "      <td>2.558000</td>\n",
              "      <td>1537.031000</td>\n",
              "      <td>0.840099</td>\n",
              "      <td>6.000000</td>\n",
              "    </tr>\n",
              "    <tr>\n",
              "      <th>75%</th>\n",
              "      <td>120.000000</td>\n",
              "      <td>24.0</td>\n",
              "      <td>1.741850</td>\n",
              "      <td>3.655751</td>\n",
              "      <td>-1.989974</td>\n",
              "      <td>35.420677</td>\n",
              "      <td>1.999000</td>\n",
              "      <td>2.718000</td>\n",
              "      <td>2307.485000</td>\n",
              "      <td>0.938250</td>\n",
              "      <td>7.000000</td>\n",
              "    </tr>\n",
              "    <tr>\n",
              "      <th>max</th>\n",
              "      <td>168.000000</td>\n",
              "      <td>24.0</td>\n",
              "      <td>2.035338</td>\n",
              "      <td>4.233325</td>\n",
              "      <td>0.014306</td>\n",
              "      <td>42.332522</td>\n",
              "      <td>2.000000</td>\n",
              "      <td>4.249000</td>\n",
              "      <td>3690.234000</td>\n",
              "      <td>1.096338</td>\n",
              "      <td>18.000000</td>\n",
              "    </tr>\n",
              "  </tbody>\n",
              "</table>\n",
              "</div>\n",
              "      <button class=\"colab-df-convert\" onclick=\"convertToInteractive('df-814b2ef5-f544-4c73-8efe-e116916162e8')\"\n",
              "              title=\"Convert this dataframe to an interactive table.\"\n",
              "              style=\"display:none;\">\n",
              "        \n",
              "  <svg xmlns=\"http://www.w3.org/2000/svg\" height=\"24px\"viewBox=\"0 0 24 24\"\n",
              "       width=\"24px\">\n",
              "    <path d=\"M0 0h24v24H0V0z\" fill=\"none\"/>\n",
              "    <path d=\"M18.56 5.44l.94 2.06.94-2.06 2.06-.94-2.06-.94-.94-2.06-.94 2.06-2.06.94zm-11 1L8.5 8.5l.94-2.06 2.06-.94-2.06-.94L8.5 2.5l-.94 2.06-2.06.94zm10 10l.94 2.06.94-2.06 2.06-.94-2.06-.94-.94-2.06-.94 2.06-2.06.94z\"/><path d=\"M17.41 7.96l-1.37-1.37c-.4-.4-.92-.59-1.43-.59-.52 0-1.04.2-1.43.59L10.3 9.45l-7.72 7.72c-.78.78-.78 2.05 0 2.83L4 21.41c.39.39.9.59 1.41.59.51 0 1.02-.2 1.41-.59l7.78-7.78 2.81-2.81c.8-.78.8-2.07 0-2.86zM5.41 20L4 18.59l7.72-7.72 1.47 1.35L5.41 20z\"/>\n",
              "  </svg>\n",
              "      </button>\n",
              "      \n",
              "  <style>\n",
              "    .colab-df-container {\n",
              "      display:flex;\n",
              "      flex-wrap:wrap;\n",
              "      gap: 12px;\n",
              "    }\n",
              "\n",
              "    .colab-df-convert {\n",
              "      background-color: #E8F0FE;\n",
              "      border: none;\n",
              "      border-radius: 50%;\n",
              "      cursor: pointer;\n",
              "      display: none;\n",
              "      fill: #1967D2;\n",
              "      height: 32px;\n",
              "      padding: 0 0 0 0;\n",
              "      width: 32px;\n",
              "    }\n",
              "\n",
              "    .colab-df-convert:hover {\n",
              "      background-color: #E2EBFA;\n",
              "      box-shadow: 0px 1px 2px rgba(60, 64, 67, 0.3), 0px 1px 3px 1px rgba(60, 64, 67, 0.15);\n",
              "      fill: #174EA6;\n",
              "    }\n",
              "\n",
              "    [theme=dark] .colab-df-convert {\n",
              "      background-color: #3B4455;\n",
              "      fill: #D2E3FC;\n",
              "    }\n",
              "\n",
              "    [theme=dark] .colab-df-convert:hover {\n",
              "      background-color: #434B5C;\n",
              "      box-shadow: 0px 1px 3px 1px rgba(0, 0, 0, 0.15);\n",
              "      filter: drop-shadow(0px 1px 2px rgba(0, 0, 0, 0.3));\n",
              "      fill: #FFFFFF;\n",
              "    }\n",
              "  </style>\n",
              "\n",
              "      <script>\n",
              "        const buttonEl =\n",
              "          document.querySelector('#df-814b2ef5-f544-4c73-8efe-e116916162e8 button.colab-df-convert');\n",
              "        buttonEl.style.display =\n",
              "          google.colab.kernel.accessAllowed ? 'block' : 'none';\n",
              "\n",
              "        async function convertToInteractive(key) {\n",
              "          const element = document.querySelector('#df-814b2ef5-f544-4c73-8efe-e116916162e8');\n",
              "          const dataTable =\n",
              "            await google.colab.kernel.invokeFunction('convertToInteractive',\n",
              "                                                     [key], {});\n",
              "          if (!dataTable) return;\n",
              "\n",
              "          const docLinkHtml = 'Like what you see? Visit the ' +\n",
              "            '<a target=\"_blank\" href=https://colab.research.google.com/notebooks/data_table.ipynb>data table notebook</a>'\n",
              "            + ' to learn more about interactive tables.';\n",
              "          element.innerHTML = '';\n",
              "          dataTable['output_type'] = 'display_data';\n",
              "          await google.colab.output.renderOutput(dataTable, element);\n",
              "          const docLink = document.createElement('div');\n",
              "          docLink.innerHTML = docLinkHtml;\n",
              "          element.appendChild(docLink);\n",
              "        }\n",
              "      </script>\n",
              "    </div>\n",
              "  </div>\n",
              "  "
            ]
          },
          "metadata": {},
          "execution_count": 6
        }
      ]
    },
    {
      "cell_type": "code",
      "source": [
        "data.groupby('bateria')['cycle'].max()"
      ],
      "metadata": {
        "colab": {
          "base_uri": "https://localhost:8080/"
        },
        "id": "dRmio5ABrWEF",
        "outputId": "37bcd3dd-0dac-407b-ea4e-f3d2a291474c"
      },
      "execution_count": null,
      "outputs": [
        {
          "output_type": "execute_result",
          "data": {
            "text/plain": [
              "bateria\n",
              "5     168\n",
              "6     168\n",
              "7     168\n",
              "18    132\n",
              "Name: cycle, dtype: int64"
            ]
          },
          "metadata": {},
          "execution_count": 7
        }
      ]
    },
    {
      "cell_type": "code",
      "source": [
        "data.groupby('bateria')['time'].mean()"
      ],
      "metadata": {
        "colab": {
          "base_uri": "https://localhost:8080/"
        },
        "id": "_phyigSMsb0a",
        "outputId": "56ae7f98-c2ff-4cab-909a-e73b524c1eab"
      },
      "execution_count": null,
      "outputs": [
        {
          "output_type": "execute_result",
          "data": {
            "text/plain": [
              "bateria\n",
              "5     1546.208924\n",
              "6     1546.208924\n",
              "7     1546.208924\n",
              "18    1547.119848\n",
              "Name: time, dtype: float64"
            ]
          },
          "metadata": {},
          "execution_count": 8
        }
      ]
    },
    {
      "cell_type": "code",
      "source": [
        ""
      ],
      "metadata": {
        "id": "unplGMYBF_7q"
      },
      "execution_count": null,
      "outputs": []
    },
    {
      "cell_type": "code",
      "source": [
        ""
      ],
      "metadata": {
        "id": "vg2mIMypGWEl"
      },
      "execution_count": null,
      "outputs": []
    },
    {
      "cell_type": "code",
      "source": [
        "X_train, X_test, y_train, y_test = train_test_split(X, y, test_size=0.2, shuffle=False)"
      ],
      "metadata": {
        "id": "HemFmbmdGWBd"
      },
      "execution_count": null,
      "outputs": []
    }
  ]
}